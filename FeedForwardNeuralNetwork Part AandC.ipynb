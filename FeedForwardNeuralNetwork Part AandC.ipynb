{
  "cells": [
    {
      "cell_type": "markdown",
      "source": [
        "# Part A and Part C of Assignment 1\n",
        "By Naveena Chatti"
      ],
      "metadata": {
        "id": "c79yrGtBx-vk"
      }
    },
    {
      "cell_type": "code",
      "execution_count": 1,
      "metadata": {
        "colab": {
          "base_uri": "https://localhost:8080/"
        },
        "collapsed": true,
        "id": "YezA_sjHzydP",
        "outputId": "015c4b6f-5640-449b-d994-aa57190fc46e"
      },
      "outputs": [
        {
          "output_type": "stream",
          "name": "stdout",
          "text": [
            "Requirement already satisfied: torch in /usr/local/lib/python3.10/dist-packages (2.4.1+cu121)\n",
            "Requirement already satisfied: torchvision in /usr/local/lib/python3.10/dist-packages (0.19.1+cu121)\n",
            "Requirement already satisfied: matplotlib in /usr/local/lib/python3.10/dist-packages (3.7.1)\n",
            "Requirement already satisfied: filelock in /usr/local/lib/python3.10/dist-packages (from torch) (3.16.1)\n",
            "Requirement already satisfied: typing-extensions>=4.8.0 in /usr/local/lib/python3.10/dist-packages (from torch) (4.12.2)\n",
            "Requirement already satisfied: sympy in /usr/local/lib/python3.10/dist-packages (from torch) (1.13.3)\n",
            "Requirement already satisfied: networkx in /usr/local/lib/python3.10/dist-packages (from torch) (3.3)\n",
            "Requirement already satisfied: jinja2 in /usr/local/lib/python3.10/dist-packages (from torch) (3.1.4)\n",
            "Requirement already satisfied: fsspec in /usr/local/lib/python3.10/dist-packages (from torch) (2024.6.1)\n",
            "Requirement already satisfied: numpy in /usr/local/lib/python3.10/dist-packages (from torchvision) (1.26.4)\n",
            "Requirement already satisfied: pillow!=8.3.*,>=5.3.0 in /usr/local/lib/python3.10/dist-packages (from torchvision) (10.4.0)\n",
            "Requirement already satisfied: contourpy>=1.0.1 in /usr/local/lib/python3.10/dist-packages (from matplotlib) (1.3.0)\n",
            "Requirement already satisfied: cycler>=0.10 in /usr/local/lib/python3.10/dist-packages (from matplotlib) (0.12.1)\n",
            "Requirement already satisfied: fonttools>=4.22.0 in /usr/local/lib/python3.10/dist-packages (from matplotlib) (4.53.1)\n",
            "Requirement already satisfied: kiwisolver>=1.0.1 in /usr/local/lib/python3.10/dist-packages (from matplotlib) (1.4.7)\n",
            "Requirement already satisfied: packaging>=20.0 in /usr/local/lib/python3.10/dist-packages (from matplotlib) (24.1)\n",
            "Requirement already satisfied: pyparsing>=2.3.1 in /usr/local/lib/python3.10/dist-packages (from matplotlib) (3.1.4)\n",
            "Requirement already satisfied: python-dateutil>=2.7 in /usr/local/lib/python3.10/dist-packages (from matplotlib) (2.8.2)\n",
            "Requirement already satisfied: six>=1.5 in /usr/local/lib/python3.10/dist-packages (from python-dateutil>=2.7->matplotlib) (1.16.0)\n",
            "Requirement already satisfied: MarkupSafe>=2.0 in /usr/local/lib/python3.10/dist-packages (from jinja2->torch) (2.1.5)\n",
            "Requirement already satisfied: mpmath<1.4,>=1.1.0 in /usr/local/lib/python3.10/dist-packages (from sympy->torch) (1.3.0)\n"
          ]
        }
      ],
      "source": [
        "pip install torch torchvision matplotlib"
      ]
    },
    {
      "cell_type": "code",
      "execution_count": 2,
      "metadata": {
        "colab": {
          "base_uri": "https://localhost:8080/"
        },
        "id": "z_g9YTfHM_gC",
        "outputId": "19be5968-bdc4-4731-d829-793e6a4cb714"
      },
      "outputs": [
        {
          "output_type": "stream",
          "name": "stdout",
          "text": [
            "Mounted at /content/drive\n"
          ]
        }
      ],
      "source": [
        "from google.colab import drive\n",
        "drive.mount('/content/drive',force_remount=True)"
      ]
    },
    {
      "cell_type": "code",
      "execution_count": 3,
      "metadata": {
        "colab": {
          "base_uri": "https://localhost:8080/"
        },
        "id": "nY2VDNNC0QG6",
        "outputId": "24e2e3f1-1874-4e18-c1d0-e70765330265"
      },
      "outputs": [
        {
          "output_type": "stream",
          "name": "stdout",
          "text": [
            "cpu\n"
          ]
        }
      ],
      "source": [
        "import torch\n",
        "import torchvision\n",
        "import torchvision.transforms as transforms\n",
        "from torchvision import datasets, transforms\n",
        "from torch.utils.data import DataLoader\n",
        "import numpy as np\n",
        "import matplotlib.pyplot as plt\n",
        "import time\n",
        "\n",
        "device = torch.device(\"cuda\" if torch.cuda.is_available() else \"cpu\")\n",
        "print(device)"
      ]
    },
    {
      "cell_type": "code",
      "source": [
        "# Define transformations\n",
        "transform = transforms.Compose([transforms.ToTensor()])\n",
        "\n",
        "# Load MNIST dataset\n",
        "train_dataset = datasets.MNIST(root='./data', train=True, transform=transform, download=True)\n",
        "test_dataset = datasets.MNIST(root='./data', train=False, transform=transform, download=True)\n"
      ],
      "metadata": {
        "colab": {
          "base_uri": "https://localhost:8080/"
        },
        "id": "gjcP742igqWq",
        "outputId": "6b7ad65b-fa13-4380-c71c-ed6746db1794"
      },
      "execution_count": 4,
      "outputs": [
        {
          "output_type": "stream",
          "name": "stdout",
          "text": [
            "Downloading http://yann.lecun.com/exdb/mnist/train-images-idx3-ubyte.gz\n",
            "Failed to download (trying next):\n",
            "HTTP Error 403: Forbidden\n",
            "\n",
            "Downloading https://ossci-datasets.s3.amazonaws.com/mnist/train-images-idx3-ubyte.gz\n",
            "Downloading https://ossci-datasets.s3.amazonaws.com/mnist/train-images-idx3-ubyte.gz to ./data/MNIST/raw/train-images-idx3-ubyte.gz\n"
          ]
        },
        {
          "output_type": "stream",
          "name": "stderr",
          "text": [
            "100%|██████████| 9912422/9912422 [00:06<00:00, 1651222.01it/s]\n"
          ]
        },
        {
          "output_type": "stream",
          "name": "stdout",
          "text": [
            "Extracting ./data/MNIST/raw/train-images-idx3-ubyte.gz to ./data/MNIST/raw\n",
            "\n",
            "Downloading http://yann.lecun.com/exdb/mnist/train-labels-idx1-ubyte.gz\n",
            "Failed to download (trying next):\n",
            "HTTP Error 403: Forbidden\n",
            "\n",
            "Downloading https://ossci-datasets.s3.amazonaws.com/mnist/train-labels-idx1-ubyte.gz\n",
            "Downloading https://ossci-datasets.s3.amazonaws.com/mnist/train-labels-idx1-ubyte.gz to ./data/MNIST/raw/train-labels-idx1-ubyte.gz\n"
          ]
        },
        {
          "output_type": "stream",
          "name": "stderr",
          "text": [
            "100%|██████████| 28881/28881 [00:00<00:00, 159789.39it/s]\n"
          ]
        },
        {
          "output_type": "stream",
          "name": "stdout",
          "text": [
            "Extracting ./data/MNIST/raw/train-labels-idx1-ubyte.gz to ./data/MNIST/raw\n",
            "\n",
            "Downloading http://yann.lecun.com/exdb/mnist/t10k-images-idx3-ubyte.gz\n",
            "Failed to download (trying next):\n",
            "HTTP Error 403: Forbidden\n",
            "\n",
            "Downloading https://ossci-datasets.s3.amazonaws.com/mnist/t10k-images-idx3-ubyte.gz\n",
            "Downloading https://ossci-datasets.s3.amazonaws.com/mnist/t10k-images-idx3-ubyte.gz to ./data/MNIST/raw/t10k-images-idx3-ubyte.gz\n"
          ]
        },
        {
          "output_type": "stream",
          "name": "stderr",
          "text": [
            "100%|██████████| 1648877/1648877 [00:01<00:00, 1297556.18it/s]\n"
          ]
        },
        {
          "output_type": "stream",
          "name": "stdout",
          "text": [
            "Extracting ./data/MNIST/raw/t10k-images-idx3-ubyte.gz to ./data/MNIST/raw\n",
            "\n",
            "Downloading http://yann.lecun.com/exdb/mnist/t10k-labels-idx1-ubyte.gz\n",
            "Failed to download (trying next):\n",
            "HTTP Error 403: Forbidden\n",
            "\n",
            "Downloading https://ossci-datasets.s3.amazonaws.com/mnist/t10k-labels-idx1-ubyte.gz\n",
            "Downloading https://ossci-datasets.s3.amazonaws.com/mnist/t10k-labels-idx1-ubyte.gz to ./data/MNIST/raw/t10k-labels-idx1-ubyte.gz\n"
          ]
        },
        {
          "output_type": "stream",
          "name": "stderr",
          "text": [
            "100%|██████████| 4542/4542 [00:00<00:00, 5293283.90it/s]"
          ]
        },
        {
          "output_type": "stream",
          "name": "stdout",
          "text": [
            "Extracting ./data/MNIST/raw/t10k-labels-idx1-ubyte.gz to ./data/MNIST/raw\n",
            "\n"
          ]
        },
        {
          "output_type": "stream",
          "name": "stderr",
          "text": [
            "\n"
          ]
        }
      ]
    },
    {
      "cell_type": "code",
      "source": [
        "# Create data loaders\n",
        "train_loader = DataLoader(dataset=train_dataset, batch_size=1, shuffle=True)\n",
        "test_loader = DataLoader(dataset=test_dataset, batch_size=1, shuffle=False)\n"
      ],
      "metadata": {
        "id": "jvfFAK2pgsaz"
      },
      "execution_count": null,
      "outputs": []
    },
    {
      "cell_type": "code",
      "execution_count": 5,
      "metadata": {
        "id": "015Vc3Wujn_o"
      },
      "outputs": [],
      "source": [
        "\n",
        "# Create data loaders\n",
        "train_loader = DataLoader(dataset=train_dataset, batch_size=50, shuffle=True)\n",
        "test_loader = DataLoader(dataset=test_dataset, batch_size=50, shuffle=False)\n",
        "\n"
      ]
    },
    {
      "cell_type": "code",
      "execution_count": 6,
      "metadata": {
        "colab": {
          "base_uri": "https://localhost:8080/"
        },
        "id": "V-itOKzvn4ct",
        "outputId": "b2735736-97da-4f89-e695-411576d3982b"
      },
      "outputs": [
        {
          "output_type": "stream",
          "name": "stdout",
          "text": [
            "Unique labels seen: {0, 1, 2, 3, 4, 5, 6, 7, 8, 9}\n"
          ]
        }
      ],
      "source": [
        "all_labels = set()\n",
        "\n",
        "# Iterate through the training data loader\n",
        "for i, (x_batch, y_batch) in enumerate(train_loader):\n",
        "    all_labels.update(y_batch.numpy())\n",
        "    if i >= 100:  # Limit to first 100 batches for this check\n",
        "        break\n",
        "\n",
        "print(f\"Unique labels seen: {all_labels}\")\n"
      ]
    },
    {
      "cell_type": "code",
      "execution_count": 14,
      "metadata": {
        "id": "zrGom2l2sbdz"
      },
      "outputs": [],
      "source": [
        "  # Define the neural network architecture\n",
        "class NeuralNetwork:\n",
        "    def __init__(self, input_size, hidden_size=100, output_size=10):\n",
        "        self.W1 = torch.randn(hidden_size, input_size, device=device) * np.sqrt(2. / input_size)  # He initialization\n",
        "        self.W2 = torch.randn(output_size, hidden_size, device=device) * np.sqrt(2. / hidden_size)  # He initialization\n",
        "        self.b1 = torch.zeros(hidden_size, 1, device=device)  # Bias for layer 1\n",
        "        self.b2 = torch.zeros(output_size, 1,device=device) # Bias for layer 2\n",
        "\n",
        "        self.device=device\n",
        "    def to_device(self, device):\n",
        "        self.W1 = self.W1.to(device)\n",
        "        self.W2 = self.W2.to(device)\n",
        "        self.b1 = self.b1.to(device)\n",
        "        self.b2 = self.b2.to(device)\n",
        "\n",
        "    def relu(self, x):\n",
        "        return x.clamp(min=0)\n",
        "\n",
        "    def softmax(self, x):\n",
        "        max_x = torch.max(x, dim=1, keepdim=True).values\n",
        "        exp_x = torch.exp(x - max_x)  # Subtract max for numerical stability\n",
        "        return exp_x / exp_x.sum(dim=1, keepdim=True)\n",
        "\n",
        "    def forward(self, x):\n",
        "    # Ensure x is reshaped to (batch_size, 784)\n",
        "        x = x.view(x.size(0), -1)  # Flatten the input\n",
        "        self.z1 = self.W1.mm(x.t()) + self.b1  # [hidden_size, batch_size]\n",
        "        self.a1 = self.relu(self.z1)  # Apply activation\n",
        "        self.z2 = self.W2.mm(self.a1) + self.b2  # [output_size, batch_size]\n",
        "\n",
        "    # Return z2 transposed to match [batch_size, output_size]\n",
        "\n",
        "        return self.z2  # Transpose to [batch_size, output_size]\n",
        "\n",
        "    def backward(self, x, y, learning_rate):\n",
        "        m = x.size(0)  # Batch size\n",
        "        output = self.forward(x)  # Forward pass to get the output\n",
        "\n",
        "\n",
        "        probabilities = self.softmax(output.t())\n",
        "\n",
        "        # Cross-Entropy Loss for one-hot encoded targets\n",
        "        loss = -(y * torch.log(probabilities+ 1e-12)).sum(dim=1).mean()\n",
        "\n",
        "        # Gradients for W2 and b2 (adjusted for one-hot encoded targets)\n",
        "        grad_output = probabilities - y\n",
        "        grad_output /= m\n",
        "\n",
        "        grad_W2 = grad_output.t().mm(self.a1.t())\n",
        "        grad_b2 = grad_output.sum(dim=0, keepdim=True).t()\n",
        "\n",
        "        hidden_loss = grad_output.mm(self.W2)\n",
        "        grad_a1 = hidden_loss.t() * (self.z1 > 0).float()\n",
        "\n",
        "        # Gradients for W1 and b1\n",
        "        grad_W1 = grad_a1.mm(x.view(x.size(0), -1))\n",
        "        grad_b1 = grad_a1.sum(dim=1, keepdim=True)\n",
        "\n",
        "        # Update weights and biases\n",
        "        self.W1 -= learning_rate * grad_W1\n",
        "        self.b1 -= learning_rate * grad_b1\n",
        "        self.W2 -= learning_rate * grad_W2\n",
        "        self.b2 -= learning_rate * grad_b2"
      ]
    },
    {
      "cell_type": "code",
      "execution_count": null,
      "metadata": {
        "id": "T6QgeR47s6QE"
      },
      "outputs": [],
      "source": [
        "  # Defined a train_network method which I did not use for training my model.\n",
        "  # I have chosen to include this code as a part of the snippet that I used to call my NeuralNetwork.\n",
        "  # This is to suggest an alternative way.\n",
        "  def train_network(network, epochs, batch_size, learning_rate):\n",
        "    for epoch in range(epochs):\n",
        "        for inputs, targets in tqdm(train_loader, desc=\"Training batches\", leave=False):\n",
        "\n",
        "            # Print the raw targets\n",
        "            inputs = inputs.view(inputs.size(0), -1).to(device)  # Flatten the inputs\n",
        "            targets = targets.to(device)\n",
        "            # Print the targets before one-hot encoding\n",
        "\n",
        "            # Convert targets to one-hot encoding\n",
        "            targets_one_hot = torch.eye(10, device=device)[targets]\n",
        "\n",
        "            # Forward pass\n",
        "            output = network.forward(inputs)\n",
        "\n",
        "            # Backward pass\n",
        "            loss = network.backward(inputs, targets_one_hot, learning_rate)\n",
        "\n",
        "\n",
        "\n",
        "\n"
      ]
    },
    {
      "cell_type": "code",
      "execution_count": 17,
      "metadata": {
        "id": "dUNbTtiHxnnt"
      },
      "outputs": [],
      "source": [
        "def evaluate_network(network):\n",
        "    correct = 0\n",
        "    total = 0\n",
        "    with torch.no_grad():\n",
        "        for inputs, targets in test_loader:\n",
        "            inputs = inputs.view(inputs.size(0), -1).to(device)  # Flatten inputs for the network\n",
        "            targets = targets.to(device)  # Move targets to the same device as the model\n",
        "\n",
        "            outputs = network.forward(inputs)\n",
        "            # Transpose the outputs to get the correct shape (batch_size, num_classes)\n",
        "            outputs = outputs.T\n",
        "            _, predicted = torch.max(outputs, 1)\n",
        "\n",
        "            total += targets.size(0)\n",
        "            correct += (predicted == targets).sum().item()  # No need to move targets again\n",
        "\n",
        "    accuracy = correct / total if total > 0 else 0  # Prevent division by zero\n",
        "    print(f\"Test Accuracy: {accuracy:.4f}\")  # Optional print statement\n",
        "    return accuracy\n"
      ]
    },
    {
      "cell_type": "code",
      "execution_count": null,
      "metadata": {
        "colab": {
          "base_uri": "https://localhost:8080/"
        },
        "id": "DnheY1GWqtVt",
        "outputId": "e2e9105b-dad4-4582-f17e-404222b19b09"
      },
      "outputs": [
        {
          "output_type": "stream",
          "name": "stdout",
          "text": [
            "Requirement already satisfied: tqdm in /usr/local/lib/python3.10/dist-packages (4.66.5)\n"
          ]
        }
      ],
      "source": [
        "!pip install tqdm\n"
      ]
    },
    {
      "cell_type": "markdown",
      "source": [
        "# Part A Mini Batches batch size 50"
      ],
      "metadata": {
        "id": "Ot_TxB7Pyaho"
      }
    },
    {
      "cell_type": "code",
      "source": [
        "# Ensure all weights and biases are on CPU\n",
        "import time\n",
        "import torch\n",
        "from tqdm import tqdm  # Import tqdm for the progress bar\n",
        "# Create data loaders\n",
        "batch_size=50\n",
        "train_loader = DataLoader(dataset=train_dataset, batch_size=batch_size, shuffle=True)\n",
        "test_loader = DataLoader(dataset=test_dataset, batch_size=batch_size, shuffle=False)\n",
        "\n",
        "# Define the device\n",
        "device = torch.device(\"cuda\" if torch.cuda.is_available() else \"cpu\")\n",
        "\n",
        "# Start timing\n",
        "start_time = time.time()\n",
        "\n",
        "# Experiment: Set Batch Size\n",
        "\n",
        "total_epochs = 150\n",
        "check_epochs = [25, 50, 100, 150]  # Epochs at which to check accuracy\n",
        "\n",
        "# Initialize the network once for the current batch size\n",
        "network = NeuralNetwork(input_size=784, hidden_size=100, output_size=10)\n",
        "network.to_device(device)\n",
        "results2 = []\n",
        "\n",
        "# Train for 150 epochs\n",
        "for epoch in range(1, total_epochs + 1):\n",
        "    # Use tqdm for batch processing within the epoch\n",
        "    with tqdm(total=len(train_loader), desc=f\"Epoch {epoch}/{total_epochs}\") as pbar:\n",
        "        for inputs, targets in train_loader:\n",
        "            # Move inputs and targets to the device\n",
        "            inputs = inputs.to(device)  # Move inputs to GPU\n",
        "            targets = targets.to(device)  # Move targets to GPU\n",
        "\n",
        "            # One-hot encoding for targets\n",
        "            targets_one_hot = torch.eye(10, device=device)[targets]  # One-hot encoding\n",
        "\n",
        "            # Forward pass\n",
        "            output = network.forward(inputs)\n",
        "\n",
        "            # Backward pass\n",
        "            network.backward(inputs, targets_one_hot, learning_rate=0.01)\n",
        "\n",
        "            pbar.update(1)  # Update progress bar\n",
        "\n",
        "    # Check accuracy at specified epochs\n",
        "    if epoch in check_epochs:\n",
        "        accuracy = evaluate_network(network)\n",
        "        results2.append((batch_size, epoch, accuracy))\n",
        "\n",
        "# Print final accuracies\n",
        "print(f\"Final accuracies: {results2}\")\n",
        "\n",
        "# End timing\n",
        "end_time = time.time()\n",
        "elapsed_time = end_time - start_time\n",
        "print(f\"Elapsed time: {elapsed_time:.2f} seconds\")\n"
      ],
      "metadata": {
        "colab": {
          "base_uri": "https://localhost:8080/"
        },
        "id": "UGkJj3Tv4jDo",
        "outputId": "2927a929-60d7-40ea-fec3-b453872df590"
      },
      "execution_count": null,
      "outputs": [
        {
          "output_type": "stream",
          "name": "stderr",
          "text": [
            "Epoch 1/150: 100%|██████████| 1200/1200 [00:10<00:00, 110.28it/s]\n",
            "Epoch 2/150: 100%|██████████| 1200/1200 [00:10<00:00, 109.67it/s]\n",
            "Epoch 3/150: 100%|██████████| 1200/1200 [00:09<00:00, 121.18it/s]\n",
            "Epoch 4/150: 100%|██████████| 1200/1200 [00:10<00:00, 113.20it/s]\n",
            "Epoch 5/150: 100%|██████████| 1200/1200 [00:10<00:00, 109.10it/s]\n",
            "Epoch 6/150: 100%|██████████| 1200/1200 [00:11<00:00, 109.08it/s]\n",
            "Epoch 7/150: 100%|██████████| 1200/1200 [00:09<00:00, 122.90it/s]\n",
            "Epoch 8/150: 100%|██████████| 1200/1200 [00:10<00:00, 110.53it/s]\n",
            "Epoch 9/150: 100%|██████████| 1200/1200 [00:11<00:00, 108.89it/s]\n",
            "Epoch 10/150: 100%|██████████| 1200/1200 [00:10<00:00, 109.93it/s]\n",
            "Epoch 11/150: 100%|██████████| 1200/1200 [00:09<00:00, 124.43it/s]\n",
            "Epoch 12/150: 100%|██████████| 1200/1200 [00:11<00:00, 108.35it/s]\n",
            "Epoch 13/150: 100%|██████████| 1200/1200 [00:10<00:00, 109.68it/s]\n",
            "Epoch 14/150: 100%|██████████| 1200/1200 [00:11<00:00, 108.70it/s]\n",
            "Epoch 15/150: 100%|██████████| 1200/1200 [00:09<00:00, 121.99it/s]\n",
            "Epoch 16/150: 100%|██████████| 1200/1200 [00:11<00:00, 108.88it/s]\n",
            "Epoch 17/150: 100%|██████████| 1200/1200 [00:11<00:00, 108.91it/s]\n",
            "Epoch 18/150: 100%|██████████| 1200/1200 [00:10<00:00, 109.88it/s]\n",
            "Epoch 19/150: 100%|██████████| 1200/1200 [00:10<00:00, 117.73it/s]\n",
            "Epoch 20/150: 100%|██████████| 1200/1200 [00:11<00:00, 101.91it/s]\n",
            "Epoch 21/150: 100%|██████████| 1200/1200 [00:13<00:00, 92.00it/s] \n",
            "Epoch 22/150: 100%|██████████| 1200/1200 [00:11<00:00, 108.31it/s]\n",
            "Epoch 23/150: 100%|██████████| 1200/1200 [00:10<00:00, 119.46it/s]\n",
            "Epoch 24/150: 100%|██████████| 1200/1200 [00:10<00:00, 110.66it/s]\n",
            "Epoch 25/150: 100%|██████████| 1200/1200 [00:11<00:00, 108.42it/s]\n"
          ]
        },
        {
          "output_type": "stream",
          "name": "stdout",
          "text": [
            "Test Accuracy: 0.9590\n"
          ]
        },
        {
          "output_type": "stream",
          "name": "stderr",
          "text": [
            "Epoch 26/150: 100%|██████████| 1200/1200 [00:11<00:00, 108.38it/s]\n",
            "Epoch 27/150: 100%|██████████| 1200/1200 [00:10<00:00, 116.57it/s]\n",
            "Epoch 28/150: 100%|██████████| 1200/1200 [00:10<00:00, 113.03it/s]\n",
            "Epoch 29/150: 100%|██████████| 1200/1200 [00:11<00:00, 105.30it/s]\n",
            "Epoch 30/150: 100%|██████████| 1200/1200 [00:11<00:00, 105.67it/s]\n",
            "Epoch 31/150: 100%|██████████| 1200/1200 [00:10<00:00, 115.92it/s]\n",
            "Epoch 32/150: 100%|██████████| 1200/1200 [00:10<00:00, 110.59it/s]\n",
            "Epoch 33/150: 100%|██████████| 1200/1200 [00:11<00:00, 106.88it/s]\n",
            "Epoch 34/150: 100%|██████████| 1200/1200 [00:11<00:00, 106.41it/s]\n",
            "Epoch 35/150: 100%|██████████| 1200/1200 [00:10<00:00, 113.58it/s]\n",
            "Epoch 36/150: 100%|██████████| 1200/1200 [00:10<00:00, 112.80it/s]\n",
            "Epoch 37/150: 100%|██████████| 1200/1200 [00:11<00:00, 105.63it/s]\n",
            "Epoch 38/150: 100%|██████████| 1200/1200 [00:11<00:00, 105.14it/s]\n",
            "Epoch 39/150: 100%|██████████| 1200/1200 [00:10<00:00, 110.68it/s]\n",
            "Epoch 40/150: 100%|██████████| 1200/1200 [00:10<00:00, 118.20it/s]\n",
            "Epoch 41/150: 100%|██████████| 1200/1200 [00:11<00:00, 107.66it/s]\n",
            "Epoch 42/150: 100%|██████████| 1200/1200 [00:11<00:00, 108.42it/s]\n",
            "Epoch 43/150: 100%|██████████| 1200/1200 [00:10<00:00, 113.71it/s]\n",
            "Epoch 44/150: 100%|██████████| 1200/1200 [00:10<00:00, 117.85it/s]\n",
            "Epoch 45/150: 100%|██████████| 1200/1200 [00:11<00:00, 105.69it/s]\n",
            "Epoch 46/150: 100%|██████████| 1200/1200 [00:11<00:00, 107.08it/s]\n",
            "Epoch 47/150: 100%|██████████| 1200/1200 [00:10<00:00, 109.69it/s]\n",
            "Epoch 48/150: 100%|██████████| 1200/1200 [00:10<00:00, 117.09it/s]\n",
            "Epoch 49/150: 100%|██████████| 1200/1200 [00:11<00:00, 105.72it/s]\n",
            "Epoch 50/150: 100%|██████████| 1200/1200 [00:11<00:00, 106.04it/s]\n"
          ]
        },
        {
          "output_type": "stream",
          "name": "stdout",
          "text": [
            "Test Accuracy: 0.9707\n"
          ]
        },
        {
          "output_type": "stream",
          "name": "stderr",
          "text": [
            "Epoch 51/150: 100%|██████████| 1200/1200 [00:11<00:00, 105.26it/s]\n",
            "Epoch 52/150: 100%|██████████| 1200/1200 [00:10<00:00, 116.93it/s]\n",
            "Epoch 53/150: 100%|██████████| 1200/1200 [00:10<00:00, 111.92it/s]\n",
            "Epoch 54/150: 100%|██████████| 1200/1200 [00:11<00:00, 106.14it/s]\n",
            "Epoch 55/150: 100%|██████████| 1200/1200 [00:11<00:00, 107.44it/s]\n",
            "Epoch 56/150: 100%|██████████| 1200/1200 [00:10<00:00, 115.12it/s]\n",
            "Epoch 57/150: 100%|██████████| 1200/1200 [00:10<00:00, 110.35it/s]\n",
            "Epoch 58/150: 100%|██████████| 1200/1200 [00:11<00:00, 105.66it/s]\n",
            "Epoch 59/150: 100%|██████████| 1200/1200 [00:11<00:00, 108.06it/s]\n",
            "Epoch 60/150: 100%|██████████| 1200/1200 [00:10<00:00, 113.92it/s]\n",
            "Epoch 61/150: 100%|██████████| 1200/1200 [00:10<00:00, 112.52it/s]\n",
            "Epoch 62/150: 100%|██████████| 1200/1200 [00:11<00:00, 106.22it/s]\n",
            "Epoch 63/150: 100%|██████████| 1200/1200 [00:11<00:00, 108.24it/s]\n",
            "Epoch 64/150: 100%|██████████| 1200/1200 [00:10<00:00, 114.52it/s]\n",
            "Epoch 65/150: 100%|██████████| 1200/1200 [00:10<00:00, 113.99it/s]\n",
            "Epoch 66/150: 100%|██████████| 1200/1200 [00:11<00:00, 107.00it/s]\n",
            "Epoch 67/150: 100%|██████████| 1200/1200 [00:11<00:00, 106.80it/s]\n",
            "Epoch 68/150: 100%|██████████| 1200/1200 [00:10<00:00, 113.66it/s]\n",
            "Epoch 69/150: 100%|██████████| 1200/1200 [00:10<00:00, 114.76it/s]\n",
            "Epoch 70/150: 100%|██████████| 1200/1200 [00:11<00:00, 106.55it/s]\n",
            "Epoch 71/150: 100%|██████████| 1200/1200 [00:11<00:00, 107.75it/s]\n",
            "Epoch 72/150: 100%|██████████| 1200/1200 [00:10<00:00, 114.62it/s]\n",
            "Epoch 73/150: 100%|██████████| 1200/1200 [00:10<00:00, 113.83it/s]\n",
            "Epoch 74/150: 100%|██████████| 1200/1200 [00:11<00:00, 107.55it/s]\n",
            "Epoch 75/150: 100%|██████████| 1200/1200 [00:11<00:00, 107.08it/s]\n",
            "Epoch 76/150: 100%|██████████| 1200/1200 [00:10<00:00, 112.64it/s]\n",
            "Epoch 77/150: 100%|██████████| 1200/1200 [00:10<00:00, 115.55it/s]\n",
            "Epoch 78/150: 100%|██████████| 1200/1200 [00:11<00:00, 106.81it/s]\n",
            "Epoch 79/150: 100%|██████████| 1200/1200 [00:11<00:00, 107.58it/s]\n",
            "Epoch 80/150: 100%|██████████| 1200/1200 [00:10<00:00, 114.75it/s]\n",
            "Epoch 81/150: 100%|██████████| 1200/1200 [00:10<00:00, 112.56it/s]\n",
            "Epoch 82/150: 100%|██████████| 1200/1200 [00:11<00:00, 106.76it/s]\n",
            "Epoch 83/150: 100%|██████████| 1200/1200 [00:11<00:00, 107.12it/s]\n",
            "Epoch 84/150: 100%|██████████| 1200/1200 [00:10<00:00, 111.25it/s]\n",
            "Epoch 85/150: 100%|██████████| 1200/1200 [00:10<00:00, 118.39it/s]\n",
            "Epoch 86/150: 100%|██████████| 1200/1200 [00:11<00:00, 107.19it/s]\n",
            "Epoch 87/150: 100%|██████████| 1200/1200 [00:11<00:00, 107.41it/s]\n",
            "Epoch 88/150: 100%|██████████| 1200/1200 [00:10<00:00, 111.41it/s]\n",
            "Epoch 89/150: 100%|██████████| 1200/1200 [00:10<00:00, 115.21it/s]\n",
            "Epoch 90/150: 100%|██████████| 1200/1200 [00:11<00:00, 108.14it/s]\n",
            "Epoch 91/150: 100%|██████████| 1200/1200 [00:11<00:00, 107.54it/s]\n",
            "Epoch 92/150: 100%|██████████| 1200/1200 [00:10<00:00, 112.23it/s]\n",
            "Epoch 93/150: 100%|██████████| 1200/1200 [00:10<00:00, 115.88it/s]\n",
            "Epoch 94/150: 100%|██████████| 1200/1200 [00:11<00:00, 107.33it/s]\n",
            "Epoch 95/150: 100%|██████████| 1200/1200 [00:11<00:00, 108.33it/s]\n",
            "Epoch 96/150: 100%|██████████| 1200/1200 [00:10<00:00, 114.46it/s]\n",
            "Epoch 97/150: 100%|██████████| 1200/1200 [00:10<00:00, 115.58it/s]\n",
            "Epoch 98/150: 100%|██████████| 1200/1200 [00:11<00:00, 107.64it/s]\n",
            "Epoch 99/150: 100%|██████████| 1200/1200 [00:11<00:00, 107.60it/s]\n",
            "Epoch 100/150: 100%|██████████| 1200/1200 [00:10<00:00, 112.71it/s]\n"
          ]
        },
        {
          "output_type": "stream",
          "name": "stdout",
          "text": [
            "Test Accuracy: 0.9781\n"
          ]
        },
        {
          "output_type": "stream",
          "name": "stderr",
          "text": [
            "Epoch 101/150: 100%|██████████| 1200/1200 [00:09<00:00, 123.78it/s]\n",
            "Epoch 102/150: 100%|██████████| 1200/1200 [00:11<00:00, 107.63it/s]\n",
            "Epoch 103/150: 100%|██████████| 1200/1200 [00:11<00:00, 107.59it/s]\n",
            "Epoch 104/150: 100%|██████████| 1200/1200 [00:11<00:00, 106.69it/s]\n",
            "Epoch 105/150: 100%|██████████| 1200/1200 [00:09<00:00, 123.86it/s]\n",
            "Epoch 106/150: 100%|██████████| 1200/1200 [00:11<00:00, 107.44it/s]\n",
            "Epoch 107/150: 100%|██████████| 1200/1200 [00:11<00:00, 108.82it/s]\n",
            "Epoch 108/150: 100%|██████████| 1200/1200 [00:11<00:00, 108.47it/s]\n",
            "Epoch 109/150: 100%|██████████| 1200/1200 [00:09<00:00, 123.41it/s]\n",
            "Epoch 110/150: 100%|██████████| 1200/1200 [00:11<00:00, 108.04it/s]\n",
            "Epoch 111/150: 100%|██████████| 1200/1200 [00:11<00:00, 107.07it/s]\n",
            "Epoch 112/150: 100%|██████████| 1200/1200 [00:11<00:00, 106.81it/s]\n",
            "Epoch 113/150: 100%|██████████| 1200/1200 [00:09<00:00, 122.62it/s]\n",
            "Epoch 114/150: 100%|██████████| 1200/1200 [00:11<00:00, 106.35it/s]\n",
            "Epoch 115/150: 100%|██████████| 1200/1200 [00:11<00:00, 106.63it/s]\n",
            "Epoch 116/150: 100%|██████████| 1200/1200 [00:11<00:00, 107.53it/s]\n",
            "Epoch 117/150: 100%|██████████| 1200/1200 [00:09<00:00, 120.31it/s]\n",
            "Epoch 118/150: 100%|██████████| 1200/1200 [00:11<00:00, 109.08it/s]\n",
            "Epoch 119/150: 100%|██████████| 1200/1200 [00:11<00:00, 108.05it/s]\n",
            "Epoch 120/150: 100%|██████████| 1200/1200 [00:11<00:00, 107.77it/s]\n",
            "Epoch 121/150: 100%|██████████| 1200/1200 [00:09<00:00, 123.42it/s]\n",
            "Epoch 122/150: 100%|██████████| 1200/1200 [00:11<00:00, 106.53it/s]\n",
            "Epoch 123/150: 100%|██████████| 1200/1200 [00:10<00:00, 109.93it/s]\n",
            "Epoch 124/150: 100%|██████████| 1200/1200 [00:11<00:00, 108.83it/s]\n",
            "Epoch 125/150: 100%|██████████| 1200/1200 [00:09<00:00, 125.88it/s]\n",
            "Epoch 126/150: 100%|██████████| 1200/1200 [00:11<00:00, 107.69it/s]\n",
            "Epoch 127/150: 100%|██████████| 1200/1200 [00:11<00:00, 108.63it/s]\n",
            "Epoch 128/150: 100%|██████████| 1200/1200 [00:10<00:00, 111.47it/s]\n",
            "Epoch 129/150: 100%|██████████| 1200/1200 [00:09<00:00, 121.89it/s]\n",
            "Epoch 130/150: 100%|██████████| 1200/1200 [00:10<00:00, 109.34it/s]\n",
            "Epoch 131/150: 100%|██████████| 1200/1200 [00:11<00:00, 108.70it/s]\n",
            "Epoch 132/150: 100%|██████████| 1200/1200 [00:10<00:00, 114.60it/s]\n",
            "Epoch 133/150: 100%|██████████| 1200/1200 [00:10<00:00, 115.62it/s]\n",
            "Epoch 134/150: 100%|██████████| 1200/1200 [00:11<00:00, 108.68it/s]\n",
            "Epoch 135/150: 100%|██████████| 1200/1200 [00:11<00:00, 109.04it/s]\n",
            "Epoch 136/150: 100%|██████████| 1200/1200 [00:10<00:00, 116.89it/s]\n",
            "Epoch 137/150: 100%|██████████| 1200/1200 [00:10<00:00, 112.35it/s]\n",
            "Epoch 138/150: 100%|██████████| 1200/1200 [00:11<00:00, 106.86it/s]\n",
            "Epoch 139/150: 100%|██████████| 1200/1200 [00:11<00:00, 107.69it/s]\n",
            "Epoch 140/150: 100%|██████████| 1200/1200 [00:10<00:00, 115.07it/s]\n",
            "Epoch 141/150: 100%|██████████| 1200/1200 [00:10<00:00, 111.68it/s]\n",
            "Epoch 142/150: 100%|██████████| 1200/1200 [00:11<00:00, 108.18it/s]\n",
            "Epoch 143/150: 100%|██████████| 1200/1200 [00:11<00:00, 107.87it/s]\n",
            "Epoch 144/150: 100%|██████████| 1200/1200 [00:10<00:00, 115.21it/s]\n",
            "Epoch 145/150: 100%|██████████| 1200/1200 [00:10<00:00, 114.99it/s]\n",
            "Epoch 146/150: 100%|██████████| 1200/1200 [00:11<00:00, 106.86it/s]\n",
            "Epoch 147/150: 100%|██████████| 1200/1200 [00:11<00:00, 107.12it/s]\n",
            "Epoch 148/150: 100%|██████████| 1200/1200 [00:10<00:00, 115.41it/s]\n",
            "Epoch 149/150: 100%|██████████| 1200/1200 [00:10<00:00, 113.77it/s]\n",
            "Epoch 150/150: 100%|██████████| 1200/1200 [00:11<00:00, 107.31it/s]\n"
          ]
        },
        {
          "output_type": "stream",
          "name": "stdout",
          "text": [
            "Test Accuracy: 0.9789\n",
            "Final accuracies: [(50, 25, 0.959), (50, 50, 0.9707), (50, 100, 0.9781), (50, 150, 0.9789)]\n",
            "Elapsed time: 1631.95 seconds\n"
          ]
        }
      ]
    },
    {
      "cell_type": "markdown",
      "source": [
        "The accuracy has improved to 0.9590,0.9707,0.9781,0.9789 for 25,50,100,150 epochs with learning rate 0.01 and batch_size=50"
      ],
      "metadata": {
        "id": "BLuEKGl3BlC9"
      }
    },
    {
      "cell_type": "markdown",
      "source": [
        "# Part C: Using both Relu and Tanh as activation functions"
      ],
      "metadata": {
        "id": "QrteKfahC-ZC"
      }
    },
    {
      "cell_type": "code",
      "execution_count": 13,
      "metadata": {
        "id": "IFqSr_2K2-6h",
        "colab": {
          "base_uri": "https://localhost:8080/",
          "height": 1000
        },
        "outputId": "d847216d-d38a-48ea-b285-768f9a76bff3"
      },
      "outputs": [
        {
          "output_type": "stream",
          "name": "stdout",
          "text": [
            "Epoch [1/150], Training Accuracy: 0.8579\n",
            "Epoch [2/150], Training Accuracy: 0.8841\n",
            "Epoch [3/150], Training Accuracy: 0.8941\n",
            "Epoch [4/150], Training Accuracy: 0.9028\n",
            "Epoch [5/150], Training Accuracy: 0.9079\n",
            "Epoch [6/150], Training Accuracy: 0.9119\n",
            "Epoch [7/150], Training Accuracy: 0.9155\n",
            "Epoch [8/150], Training Accuracy: 0.9191\n",
            "Epoch [9/150], Training Accuracy: 0.9215\n",
            "Epoch [10/150], Training Accuracy: 0.9238\n",
            "Epoch [11/150], Training Accuracy: 0.9266\n",
            "Epoch [12/150], Training Accuracy: 0.9288\n",
            "Epoch [13/150], Training Accuracy: 0.9303\n",
            "Epoch [14/150], Training Accuracy: 0.9323\n",
            "Epoch [15/150], Training Accuracy: 0.9345\n",
            "Epoch [16/150], Training Accuracy: 0.9359\n",
            "Epoch [17/150], Training Accuracy: 0.9384\n",
            "Epoch [18/150], Training Accuracy: 0.9402\n",
            "Epoch [19/150], Training Accuracy: 0.9416\n",
            "Epoch [20/150], Training Accuracy: 0.9437\n",
            "Epoch [21/150], Training Accuracy: 0.9447\n",
            "Epoch [22/150], Training Accuracy: 0.9454\n",
            "Epoch [23/150], Training Accuracy: 0.9464\n",
            "Epoch [24/150], Training Accuracy: 0.9472\n",
            "Epoch [25/150], Training Accuracy: 0.9476\n",
            "Epoch [25], Test Accuracy: 0.9478\n",
            "Epoch [26/150], Training Accuracy: 0.9490\n",
            "Epoch [27/150], Training Accuracy: 0.9494\n",
            "Epoch [28/150], Training Accuracy: 0.9496\n",
            "Epoch [29/150], Training Accuracy: 0.9503\n",
            "Epoch [30/150], Training Accuracy: 0.9509\n",
            "Epoch [31/150], Training Accuracy: 0.9515\n",
            "Epoch [32/150], Training Accuracy: 0.9521\n",
            "Epoch [33/150], Training Accuracy: 0.9529\n",
            "Epoch [34/150], Training Accuracy: 0.9533\n",
            "Epoch [35/150], Training Accuracy: 0.9534\n",
            "Epoch [36/150], Training Accuracy: 0.9542\n",
            "Epoch [37/150], Training Accuracy: 0.9549\n",
            "Epoch [38/150], Training Accuracy: 0.9552\n",
            "Epoch [39/150], Training Accuracy: 0.9560\n",
            "Epoch [40/150], Training Accuracy: 0.9557\n",
            "Epoch [41/150], Training Accuracy: 0.9563\n",
            "Epoch [42/150], Training Accuracy: 0.9566\n",
            "Epoch [43/150], Training Accuracy: 0.9569\n",
            "Epoch [44/150], Training Accuracy: 0.9570\n",
            "Epoch [45/150], Training Accuracy: 0.9575\n",
            "Epoch [46/150], Training Accuracy: 0.9578\n",
            "Epoch [47/150], Training Accuracy: 0.9579\n",
            "Epoch [48/150], Training Accuracy: 0.9583\n",
            "Epoch [49/150], Training Accuracy: 0.9586\n",
            "Epoch [50/150], Training Accuracy: 0.9586\n",
            "Epoch [50], Test Accuracy: 0.9588\n",
            "Epoch [51/150], Training Accuracy: 0.9592\n",
            "Epoch [52/150], Training Accuracy: 0.9594\n",
            "Epoch [53/150], Training Accuracy: 0.9599\n",
            "Epoch [54/150], Training Accuracy: 0.9599\n",
            "Epoch [55/150], Training Accuracy: 0.9599\n",
            "Epoch [56/150], Training Accuracy: 0.9604\n",
            "Epoch [57/150], Training Accuracy: 0.9602\n",
            "Epoch [58/150], Training Accuracy: 0.9607\n",
            "Epoch [59/150], Training Accuracy: 0.9610\n",
            "Epoch [60/150], Training Accuracy: 0.9614\n",
            "Epoch [61/150], Training Accuracy: 0.9613\n",
            "Epoch [62/150], Training Accuracy: 0.9614\n",
            "Epoch [63/150], Training Accuracy: 0.9618\n",
            "Epoch [64/150], Training Accuracy: 0.9616\n",
            "Epoch [65/150], Training Accuracy: 0.9619\n",
            "Epoch [66/150], Training Accuracy: 0.9621\n",
            "Epoch [67/150], Training Accuracy: 0.9622\n",
            "Epoch [68/150], Training Accuracy: 0.9623\n",
            "Epoch [69/150], Training Accuracy: 0.9627\n",
            "Epoch [70/150], Training Accuracy: 0.9622\n",
            "Epoch [71/150], Training Accuracy: 0.9629\n",
            "Epoch [72/150], Training Accuracy: 0.9628\n",
            "Epoch [73/150], Training Accuracy: 0.9628\n",
            "Epoch [74/150], Training Accuracy: 0.9630\n",
            "Epoch [75/150], Training Accuracy: 0.9631\n",
            "Epoch [76/150], Training Accuracy: 0.9630\n",
            "Epoch [77/150], Training Accuracy: 0.9628\n",
            "Epoch [78/150], Training Accuracy: 0.9630\n",
            "Epoch [79/150], Training Accuracy: 0.9633\n",
            "Epoch [80/150], Training Accuracy: 0.9634\n",
            "Epoch [81/150], Training Accuracy: 0.9636\n",
            "Epoch [82/150], Training Accuracy: 0.9638\n",
            "Epoch [83/150], Training Accuracy: 0.9639\n",
            "Epoch [84/150], Training Accuracy: 0.9638\n",
            "Epoch [85/150], Training Accuracy: 0.9639\n",
            "Epoch [86/150], Training Accuracy: 0.9639\n",
            "Epoch [87/150], Training Accuracy: 0.9644\n",
            "Epoch [88/150], Training Accuracy: 0.9640\n",
            "Epoch [89/150], Training Accuracy: 0.9639\n",
            "Epoch [90/150], Training Accuracy: 0.9647\n",
            "Epoch [91/150], Training Accuracy: 0.9648\n",
            "Epoch [92/150], Training Accuracy: 0.9644\n",
            "Epoch [93/150], Training Accuracy: 0.9648\n",
            "Epoch [94/150], Training Accuracy: 0.9649\n",
            "Epoch [95/150], Training Accuracy: 0.9649\n",
            "Epoch [96/150], Training Accuracy: 0.9649\n",
            "Epoch [97/150], Training Accuracy: 0.9647\n",
            "Epoch [98/150], Training Accuracy: 0.9651\n",
            "Epoch [99/150], Training Accuracy: 0.9650\n",
            "Epoch [100/150], Training Accuracy: 0.9651\n",
            "Epoch [100], Test Accuracy: 0.9628\n",
            "Epoch [101/150], Training Accuracy: 0.9649\n",
            "Epoch [102/150], Training Accuracy: 0.9652\n",
            "Epoch [103/150], Training Accuracy: 0.9657\n",
            "Epoch [104/150], Training Accuracy: 0.9658\n",
            "Epoch [105/150], Training Accuracy: 0.9659\n",
            "Epoch [106/150], Training Accuracy: 0.9657\n",
            "Epoch [107/150], Training Accuracy: 0.9657\n",
            "Epoch [108/150], Training Accuracy: 0.9657\n",
            "Epoch [109/150], Training Accuracy: 0.9657\n",
            "Epoch [110/150], Training Accuracy: 0.9657\n",
            "Epoch [111/150], Training Accuracy: 0.9664\n",
            "Epoch [112/150], Training Accuracy: 0.9663\n",
            "Epoch [113/150], Training Accuracy: 0.9665\n",
            "Epoch [114/150], Training Accuracy: 0.9666\n",
            "Epoch [115/150], Training Accuracy: 0.9666\n",
            "Epoch [116/150], Training Accuracy: 0.9662\n",
            "Epoch [117/150], Training Accuracy: 0.9662\n",
            "Epoch [118/150], Training Accuracy: 0.9665\n",
            "Epoch [119/150], Training Accuracy: 0.9667\n",
            "Epoch [120/150], Training Accuracy: 0.9664\n",
            "Epoch [121/150], Training Accuracy: 0.9664\n",
            "Epoch [122/150], Training Accuracy: 0.9668\n",
            "Epoch [123/150], Training Accuracy: 0.9668\n",
            "Epoch [124/150], Training Accuracy: 0.9670\n",
            "Epoch [125/150], Training Accuracy: 0.9669\n",
            "Epoch [126/150], Training Accuracy: 0.9669\n",
            "Epoch [127/150], Training Accuracy: 0.9670\n",
            "Epoch [128/150], Training Accuracy: 0.9670\n",
            "Epoch [129/150], Training Accuracy: 0.9674\n",
            "Epoch [130/150], Training Accuracy: 0.9670\n",
            "Epoch [131/150], Training Accuracy: 0.9674\n",
            "Epoch [132/150], Training Accuracy: 0.9673\n",
            "Epoch [133/150], Training Accuracy: 0.9676\n",
            "Epoch [134/150], Training Accuracy: 0.9675\n",
            "Epoch [135/150], Training Accuracy: 0.9679\n",
            "Epoch [136/150], Training Accuracy: 0.9677\n",
            "Epoch [137/150], Training Accuracy: 0.9682\n",
            "Epoch [138/150], Training Accuracy: 0.9681\n",
            "Epoch [139/150], Training Accuracy: 0.9680\n",
            "Epoch [140/150], Training Accuracy: 0.9681\n",
            "Epoch [141/150], Training Accuracy: 0.9681\n",
            "Epoch [142/150], Training Accuracy: 0.9681\n",
            "Epoch [143/150], Training Accuracy: 0.9684\n",
            "Epoch [144/150], Training Accuracy: 0.9683\n",
            "Epoch [145/150], Training Accuracy: 0.9685\n",
            "Epoch [146/150], Training Accuracy: 0.9681\n",
            "Epoch [147/150], Training Accuracy: 0.9685\n",
            "Epoch [148/150], Training Accuracy: 0.9686\n",
            "Epoch [149/150], Training Accuracy: 0.9685\n",
            "Epoch [150/150], Training Accuracy: 0.9687\n",
            "Epoch [150], Test Accuracy: 0.9636\n",
            "Final test accuracies: [(50, 25, 0.9478), (50, 50, 0.9588), (50, 100, 0.9628), (50, 150, 0.9636)]\n",
            "Elapsed time: 2002.16 seconds\n"
          ]
        },
        {
          "output_type": "display_data",
          "data": {
            "text/plain": [
              "<Figure size 640x480 with 1 Axes>"
            ],
            "image/png": "[encoded data removed]"
          },
          "metadata": {}
        }
      ],
      "source": [
        "import time\n",
        "import torch\n",
        "import numpy as np\n",
        "import matplotlib.pyplot as plt\n",
        "from torch.utils.data import DataLoader\n",
        "\n",
        "# Define the device\n",
        "device = torch.device(\"cuda\" if torch.cuda.is_available() else \"cpu\")\n",
        "\n",
        "# Define the neural network architecture\n",
        "class NeuralNetwork:\n",
        "    def __init__(self, input_size, hidden_size=100, output_size=10):\n",
        "        self.W1 = torch.randn(hidden_size, input_size, device=device) * np.sqrt(2. / input_size)\n",
        "        self.W2 = torch.randn(output_size, hidden_size, device=device) * np.sqrt(2. / hidden_size)\n",
        "        self.b1 = torch.zeros(hidden_size, 1, device=device)\n",
        "        self.b2 = torch.zeros(output_size, 1, device=device)\n",
        "\n",
        "    def to_device(self, device):\n",
        "        self.W1 = self.W1.to(device)\n",
        "        self.b1 = self.b1.to(device)\n",
        "        self.W2 = self.W2.to(device)\n",
        "        self.b2 = self.b2.to(device)\n",
        "\n",
        "    def relu(self, x):\n",
        "        return x.clamp(min=0)\n",
        "\n",
        "    def tanh(self, x):\n",
        "        return torch.tanh(x)\n",
        "\n",
        "    def forward(self, x):\n",
        "        x = x.view(x.size(0), -1)  # Flatten the input\n",
        "        self.z1 = self.W1.mm(x.t()) + self.b1  # First layer\n",
        "        self.a1 = self.tanh(self.z1)  # Tanh activation\n",
        "        self.z2 = self.W2.mm(self.a1) + self.b2  # Second layer\n",
        "        self.a2 = self.relu(self.z2)  # ReLU activation\n",
        "        return self.a2.t()  # Transpose to [batch_size, output_size]\n",
        "\n",
        "    def backward(self, x, y, learning_rate):\n",
        "        m = x.size(0)\n",
        "        output = self.forward(x)\n",
        "\n",
        "        # Calculate loss (Mean Squared Error for simplicity)\n",
        "        loss = - (y * torch.log(output + 1e-12)).sum(dim=1).mean()\n",
        "\n",
        "        # Backward pass\n",
        "        grad_output = output - y\n",
        "        grad_output /= m\n",
        "\n",
        "        grad_W2 = grad_output.t().mm(self.a1.t())\n",
        "        grad_b2 = grad_output.sum(dim=0, keepdim=True).t()\n",
        "\n",
        "        hidden_loss = grad_output.mm(self.W2)\n",
        "        grad_a1 = hidden_loss.t() * (self.z1 > 0).float()\n",
        "\n",
        "        grad_W1 = grad_a1.mm(x.view(x.size(0), -1))\n",
        "        grad_b1 = grad_a1.sum(dim=1, keepdim=True)\n",
        "\n",
        "        # Update weights and biases\n",
        "        self.W1 -= learning_rate * grad_W1\n",
        "        self.b1 -= learning_rate * grad_b1\n",
        "        self.W2 -= learning_rate * grad_W2\n",
        "        self.b2 -= learning_rate * grad_b2\n",
        "\n",
        "# Evaluation function\n",
        "def evaluate_model(model, data_loader):\n",
        "    correct = 0\n",
        "    total = 0\n",
        "    with torch.no_grad():\n",
        "        for inputs, targets in data_loader:\n",
        "            inputs, targets = inputs.to(device), targets.to(device)\n",
        "            outputs = model.forward(inputs)\n",
        "            _, predicted = torch.max(outputs, 1)\n",
        "            total += targets.size(0)\n",
        "            correct += (predicted == targets).sum().item()\n",
        "    return correct / total\n",
        "\n",
        "# Create data loaders\n",
        "batch_size = 50\n",
        "train_loader = DataLoader(dataset=train_dataset, batch_size=batch_size, shuffle=True)\n",
        "test_loader = DataLoader(dataset=test_dataset, batch_size=batch_size, shuffle=False)\n",
        "\n",
        "# Start timing\n",
        "start_time = time.time()\n",
        "\n",
        "# Parameters\n",
        "total_epochs = 150\n",
        "check_epochs = [25, 50, 100, 150]  # Epochs at which to check accuracy\n",
        "\n",
        "# Initialize the network\n",
        "network = NeuralNetwork(input_size=784, hidden_size=100, output_size=10)\n",
        "network.to_device(device)\n",
        "results4 = []\n",
        "\n",
        "# Train for 150 epochs\n",
        "for epoch in range(1, total_epochs + 1):\n",
        "    for inputs, targets in train_loader:\n",
        "        inputs = inputs.to(device)  # Move inputs to GPU\n",
        "        targets = targets.to(device)  # Move targets to GPU\n",
        "\n",
        "        # One-hot encoding for targets\n",
        "        targets_one_hot = torch.eye(10, device=device)[targets]  # One-hot encoding\n",
        "\n",
        "        # Forward pass\n",
        "        output = network.forward(inputs)\n",
        "\n",
        "        # Backward pass\n",
        "        network.backward(inputs, targets_one_hot, learning_rate=0.01)\n",
        "\n",
        "    # Calculate training accuracy\n",
        "    train_accuracy = evaluate_model(network, train_loader)\n",
        "    print(f'Epoch [{epoch}/{total_epochs}], Training Accuracy: {train_accuracy:.4f}')\n",
        "\n",
        "    # Check accuracy at specified epochs\n",
        "    if epoch in check_epochs:\n",
        "        test_accuracy = evaluate_model(network, test_loader)\n",
        "        results4.append((batch_size, epoch, test_accuracy))\n",
        "        print(f'Epoch [{epoch}], Test Accuracy: {test_accuracy:.4f}')\n",
        "\n",
        "# Print final test accuracies\n",
        "print(f\"Final test accuracies: {results4}\")\n",
        "\n",
        "# End timing\n",
        "end_time = time.time()\n",
        "elapsed_time = end_time - start_time\n",
        "print(f\"Elapsed time: {elapsed_time:.2f} seconds\")\n",
        "\n",
        "# Optionally plot results\n",
        "plt.plot([x[1] for x in results4], [x[2] for x in results4])\n",
        "plt.xlabel('Epoch')\n",
        "plt.ylabel('Test Accuracy')\n",
        "plt.title('Test Accuracy over Epochs')\n",
        "plt.grid()\n",
        "plt.show()\n"
      ]
    },
    {
      "cell_type": "markdown",
      "source": [
        "# Part A SGD Batch size =1"
      ],
      "metadata": {
        "id": "5ucBEyaby6pS"
      }
    },
    {
      "cell_type": "code",
      "source": [
        "import time\n",
        "import torch\n",
        "from tqdm import tqdm  # Import tqdm for the progress bar\n",
        "train_loader = DataLoader(dataset=train_dataset, batch_size=1, shuffle=True)\n",
        "test_loader = DataLoader(dataset=test_dataset, batch_size=1, shuffle=False)\n",
        "\n",
        "# Define the device\n",
        "device = torch.device(\"cuda\" if torch.cuda.is_available() else \"cpu\")\n",
        "\n",
        "# Start timing\n",
        "start_time = time.time()\n",
        "\n",
        "# Experiment: Set Batch Size\n",
        "batch_size = 1  # Fixed batch size\n",
        "total_epochs = 150\n",
        "check_epochs = [25,50,100,150]  # Epochs at which to check accuracy\n",
        "\n",
        "# Initialize the network once for the current batch size\n",
        "network = NeuralNetwork(input_size=784, hidden_size=100, output_size=10)\n",
        "network.to_device(device)\n",
        "results5 = []\n",
        "# Train for 150 epochs\n",
        "for epoch in range(1, total_epochs + 1):\n",
        "    # Use tqdm for batch processing within the epoch\n",
        "    with tqdm(total=len(train_loader), desc=f\"Epoch {epoch}/{total_epochs}\") as pbar:\n",
        "        for inputs, targets in train_loader:\n",
        "            # Move inputs and targets to the device\n",
        "            inputs = inputs.to(device)  # Move inputs to GPU\n",
        "            targets = targets.to(device)  # Move targets to GPU\n",
        "\n",
        "            # One-hot encoding for targets\n",
        "            targets_one_hot = torch.eye(10, device=device)[targets]  # One-hot encoding\n",
        "\n",
        "            # Forward pass\n",
        "            output = network.forward(inputs)\n",
        "\n",
        "            # Backward pass\n",
        "            network.backward(inputs, targets_one_hot, learning_rate=0.01)\n",
        "\n",
        "            pbar.update(1)  # Update progress bar\n",
        "\n",
        "    # Check accuracy at specified epochs\n",
        "    if epoch in check_epochs:\n",
        "        accuracy = evaluate_network(network)\n",
        "        results5.append((batch_size, epoch, accuracy))\n",
        "\n",
        "# Print final accuracies\n",
        "print(f\"Final accuracies: {results5}\")\n",
        "\n",
        "# End timing\n",
        "end_time = time.time()\n",
        "elapsed_time = end_time - start_time\n",
        "print(f\"Elapsed time: {elapsed_time:.2f} seconds\")\n"
      ],
      "metadata": {
        "colab": {
          "base_uri": "https://localhost:8080/"
        },
        "id": "D_zkEzmgX_mx",
        "outputId": "069b1d3d-3c11-48b7-e155-a55df984b35c"
      },
      "execution_count": 19,
      "outputs": [
        {
          "output_type": "stream",
          "name": "stderr",
          "text": [
            "Epoch 1/150: 100%|██████████| 60000/60000 [00:38<00:00, 1557.86it/s]\n",
            "Epoch 2/150: 100%|██████████| 60000/60000 [00:38<00:00, 1552.85it/s]\n",
            "Epoch 3/150: 100%|██████████| 60000/60000 [00:38<00:00, 1550.34it/s]\n",
            "Epoch 4/150: 100%|██████████| 60000/60000 [00:38<00:00, 1564.05it/s]\n",
            "Epoch 5/150: 100%|██████████| 60000/60000 [00:38<00:00, 1552.93it/s]\n",
            "Epoch 6/150: 100%|██████████| 60000/60000 [00:38<00:00, 1540.46it/s]\n",
            "Epoch 7/150: 100%|██████████| 60000/60000 [00:38<00:00, 1557.72it/s]\n",
            "Epoch 8/150: 100%|██████████| 60000/60000 [00:38<00:00, 1539.30it/s]\n",
            "Epoch 9/150: 100%|██████████| 60000/60000 [00:38<00:00, 1550.90it/s]\n",
            "Epoch 10/150: 100%|██████████| 60000/60000 [00:38<00:00, 1550.11it/s]\n",
            "Epoch 11/150: 100%|██████████| 60000/60000 [00:39<00:00, 1534.61it/s]\n",
            "Epoch 12/150: 100%|██████████| 60000/60000 [00:38<00:00, 1555.82it/s]\n",
            "Epoch 13/150: 100%|██████████| 60000/60000 [00:39<00:00, 1526.43it/s]\n",
            "Epoch 14/150: 100%|██████████| 60000/60000 [00:38<00:00, 1549.52it/s]\n",
            "Epoch 15/150: 100%|██████████| 60000/60000 [00:38<00:00, 1548.28it/s]\n",
            "Epoch 16/150: 100%|██████████| 60000/60000 [00:38<00:00, 1551.52it/s]\n",
            "Epoch 17/150: 100%|██████████| 60000/60000 [00:39<00:00, 1534.07it/s]\n",
            "Epoch 18/150: 100%|██████████| 60000/60000 [00:38<00:00, 1548.98it/s]\n",
            "Epoch 19/150: 100%|██████████| 60000/60000 [00:39<00:00, 1533.76it/s]\n",
            "Epoch 20/150: 100%|██████████| 60000/60000 [00:38<00:00, 1543.54it/s]\n",
            "Epoch 21/150: 100%|██████████| 60000/60000 [00:38<00:00, 1560.95it/s]\n",
            "Epoch 22/150: 100%|██████████| 60000/60000 [00:38<00:00, 1565.14it/s]\n",
            "Epoch 23/150: 100%|██████████| 60000/60000 [00:38<00:00, 1544.28it/s]\n",
            "Epoch 24/150: 100%|██████████| 60000/60000 [00:38<00:00, 1554.68it/s]\n",
            "Epoch 25/150: 100%|██████████| 60000/60000 [00:38<00:00, 1557.19it/s]\n"
          ]
        },
        {
          "output_type": "stream",
          "name": "stdout",
          "text": [
            "Test Accuracy: 0.9817\n"
          ]
        },
        {
          "output_type": "stream",
          "name": "stderr",
          "text": [
            "Epoch 26/150: 100%|██████████| 60000/60000 [00:37<00:00, 1582.41it/s]\n",
            "Epoch 27/150: 100%|██████████| 60000/60000 [00:38<00:00, 1576.61it/s]\n",
            "Epoch 28/150: 100%|██████████| 60000/60000 [00:39<00:00, 1522.01it/s]\n",
            "Epoch 29/150: 100%|██████████| 60000/60000 [00:38<00:00, 1553.51it/s]\n",
            "Epoch 30/150: 100%|██████████| 60000/60000 [00:38<00:00, 1562.53it/s]\n",
            "Epoch 31/150: 100%|██████████| 60000/60000 [00:38<00:00, 1557.09it/s]\n",
            "Epoch 32/150: 100%|██████████| 60000/60000 [00:38<00:00, 1561.19it/s]\n",
            "Epoch 33/150: 100%|██████████| 60000/60000 [00:38<00:00, 1565.95it/s]\n",
            "Epoch 34/150: 100%|██████████| 60000/60000 [00:38<00:00, 1553.16it/s]\n",
            "Epoch 35/150: 100%|██████████| 60000/60000 [00:38<00:00, 1559.52it/s]\n",
            "Epoch 36/150: 100%|██████████| 60000/60000 [00:37<00:00, 1580.59it/s]\n",
            "Epoch 37/150: 100%|██████████| 60000/60000 [00:37<00:00, 1579.06it/s]\n",
            "Epoch 38/150: 100%|██████████| 60000/60000 [00:38<00:00, 1572.18it/s]\n",
            "Epoch 39/150: 100%|██████████| 60000/60000 [00:38<00:00, 1568.78it/s]\n",
            "Epoch 40/150: 100%|██████████| 60000/60000 [00:37<00:00, 1591.94it/s]\n",
            "Epoch 41/150: 100%|██████████| 60000/60000 [00:37<00:00, 1589.94it/s]\n",
            "Epoch 42/150: 100%|██████████| 60000/60000 [00:38<00:00, 1577.76it/s]\n",
            "Epoch 43/150: 100%|██████████| 60000/60000 [00:37<00:00, 1579.28it/s]\n",
            "Epoch 44/150: 100%|██████████| 60000/60000 [00:38<00:00, 1575.25it/s]\n",
            "Epoch 45/150: 100%|██████████| 60000/60000 [00:38<00:00, 1570.62it/s]\n",
            "Epoch 46/150: 100%|██████████| 60000/60000 [00:38<00:00, 1567.16it/s]\n",
            "Epoch 47/150: 100%|██████████| 60000/60000 [00:37<00:00, 1581.30it/s]\n",
            "Epoch 48/150: 100%|██████████| 60000/60000 [00:38<00:00, 1574.50it/s]\n",
            "Epoch 49/150: 100%|██████████| 60000/60000 [00:38<00:00, 1574.39it/s]\n",
            "Epoch 50/150: 100%|██████████| 60000/60000 [00:38<00:00, 1571.01it/s]\n"
          ]
        },
        {
          "output_type": "stream",
          "name": "stdout",
          "text": [
            "Test Accuracy: 0.9820\n"
          ]
        },
        {
          "output_type": "stream",
          "name": "stderr",
          "text": [
            "Epoch 51/150: 100%|██████████| 60000/60000 [00:38<00:00, 1574.47it/s]\n",
            "Epoch 52/150: 100%|██████████| 60000/60000 [00:38<00:00, 1562.55it/s]\n",
            "Epoch 53/150: 100%|██████████| 60000/60000 [00:38<00:00, 1571.45it/s]\n",
            "Epoch 54/150: 100%|██████████| 60000/60000 [00:38<00:00, 1551.58it/s]\n",
            "Epoch 55/150: 100%|██████████| 60000/60000 [00:37<00:00, 1582.09it/s]\n",
            "Epoch 56/150: 100%|██████████| 60000/60000 [00:37<00:00, 1581.44it/s]\n",
            "Epoch 57/150: 100%|██████████| 60000/60000 [00:38<00:00, 1565.01it/s]\n",
            "Epoch 58/150: 100%|██████████| 60000/60000 [00:38<00:00, 1554.05it/s]\n",
            "Epoch 59/150: 100%|██████████| 60000/60000 [00:38<00:00, 1548.68it/s]\n",
            "Epoch 60/150: 100%|██████████| 60000/60000 [00:39<00:00, 1537.34it/s]\n",
            "Epoch 61/150: 100%|██████████| 60000/60000 [00:38<00:00, 1549.53it/s]\n",
            "Epoch 62/150: 100%|██████████| 60000/60000 [00:39<00:00, 1535.25it/s]\n",
            "Epoch 63/150: 100%|██████████| 60000/60000 [00:38<00:00, 1558.27it/s]\n",
            "Epoch 64/150: 100%|██████████| 60000/60000 [00:38<00:00, 1569.62it/s]\n",
            "Epoch 65/150: 100%|██████████| 60000/60000 [00:38<00:00, 1569.91it/s]\n",
            "Epoch 66/150: 100%|██████████| 60000/60000 [00:38<00:00, 1542.61it/s]\n",
            "Epoch 67/150: 100%|██████████| 60000/60000 [00:38<00:00, 1549.58it/s]\n",
            "Epoch 68/150: 100%|██████████| 60000/60000 [00:38<00:00, 1575.22it/s]\n",
            "Epoch 69/150: 100%|██████████| 60000/60000 [00:38<00:00, 1556.74it/s]\n",
            "Epoch 70/150: 100%|██████████| 60000/60000 [00:39<00:00, 1535.86it/s]\n",
            "Epoch 71/150: 100%|██████████| 60000/60000 [00:38<00:00, 1553.29it/s]\n",
            "Epoch 72/150: 100%|██████████| 60000/60000 [00:38<00:00, 1572.06it/s]\n",
            "Epoch 73/150: 100%|██████████| 60000/60000 [00:38<00:00, 1554.49it/s]\n",
            "Epoch 74/150: 100%|██████████| 60000/60000 [00:38<00:00, 1559.86it/s]\n",
            "Epoch 75/150: 100%|██████████| 60000/60000 [00:41<00:00, 1440.62it/s]\n",
            "Epoch 76/150: 100%|██████████| 60000/60000 [00:38<00:00, 1547.39it/s]\n",
            "Epoch 77/150: 100%|██████████| 60000/60000 [00:38<00:00, 1541.24it/s]\n",
            "Epoch 78/150: 100%|██████████| 60000/60000 [00:39<00:00, 1533.52it/s]\n",
            "Epoch 79/150: 100%|██████████| 60000/60000 [00:38<00:00, 1539.20it/s]\n",
            "Epoch 80/150: 100%|██████████| 60000/60000 [00:39<00:00, 1538.25it/s]\n",
            "Epoch 81/150: 100%|██████████| 60000/60000 [00:39<00:00, 1535.47it/s]\n",
            "Epoch 82/150: 100%|██████████| 60000/60000 [00:39<00:00, 1529.65it/s]\n",
            "Epoch 83/150: 100%|██████████| 60000/60000 [00:39<00:00, 1534.08it/s]\n",
            "Epoch 84/150: 100%|██████████| 60000/60000 [00:39<00:00, 1531.94it/s]\n",
            "Epoch 85/150: 100%|██████████| 60000/60000 [00:38<00:00, 1545.43it/s]\n",
            "Epoch 86/150: 100%|██████████| 60000/60000 [00:38<00:00, 1542.64it/s]\n",
            "Epoch 87/150: 100%|██████████| 60000/60000 [00:39<00:00, 1535.55it/s]\n",
            "Epoch 88/150: 100%|██████████| 60000/60000 [00:38<00:00, 1541.47it/s]\n",
            "Epoch 89/150: 100%|██████████| 60000/60000 [00:38<00:00, 1548.23it/s]\n",
            "Epoch 90/150: 100%|██████████| 60000/60000 [00:38<00:00, 1541.71it/s]\n",
            "Epoch 91/150: 100%|██████████| 60000/60000 [00:39<00:00, 1538.22it/s]\n",
            "Epoch 92/150: 100%|██████████| 60000/60000 [00:38<00:00, 1541.52it/s]\n",
            "Epoch 93/150: 100%|██████████| 60000/60000 [00:38<00:00, 1545.65it/s]\n",
            "Epoch 94/150: 100%|██████████| 60000/60000 [00:38<00:00, 1543.45it/s]\n",
            "Epoch 95/150: 100%|██████████| 60000/60000 [00:38<00:00, 1555.24it/s]\n",
            "Epoch 96/150: 100%|██████████| 60000/60000 [00:38<00:00, 1553.40it/s]\n",
            "Epoch 97/150: 100%|██████████| 60000/60000 [00:38<00:00, 1564.00it/s]\n",
            "Epoch 98/150: 100%|██████████| 60000/60000 [00:39<00:00, 1530.10it/s]\n",
            "Epoch 99/150: 100%|██████████| 60000/60000 [00:38<00:00, 1545.82it/s]\n",
            "Epoch 100/150: 100%|██████████| 60000/60000 [00:38<00:00, 1544.22it/s]\n"
          ]
        },
        {
          "output_type": "stream",
          "name": "stdout",
          "text": [
            "Test Accuracy: 0.9822\n"
          ]
        },
        {
          "output_type": "stream",
          "name": "stderr",
          "text": [
            "Epoch 101/150: 100%|██████████| 60000/60000 [00:38<00:00, 1563.45it/s]\n",
            "Epoch 102/150: 100%|██████████| 60000/60000 [00:38<00:00, 1554.29it/s]\n",
            "Epoch 103/150: 100%|██████████| 60000/60000 [00:39<00:00, 1530.27it/s]\n",
            "Epoch 104/150: 100%|██████████| 60000/60000 [00:38<00:00, 1547.59it/s]\n",
            "Epoch 105/150: 100%|██████████| 60000/60000 [00:38<00:00, 1549.83it/s]\n",
            "Epoch 106/150: 100%|██████████| 60000/60000 [00:39<00:00, 1506.10it/s]\n",
            "Epoch 107/150: 100%|██████████| 60000/60000 [00:39<00:00, 1511.90it/s]\n",
            "Epoch 108/150: 100%|██████████| 60000/60000 [00:39<00:00, 1524.27it/s]\n",
            "Epoch 109/150: 100%|██████████| 60000/60000 [00:39<00:00, 1532.73it/s]\n",
            "Epoch 110/150: 100%|██████████| 60000/60000 [00:39<00:00, 1520.26it/s]\n",
            "Epoch 111/150: 100%|██████████| 60000/60000 [00:38<00:00, 1538.88it/s]\n",
            "Epoch 112/150: 100%|██████████| 60000/60000 [00:38<00:00, 1543.11it/s]\n",
            "Epoch 113/150: 100%|██████████| 60000/60000 [00:39<00:00, 1537.81it/s]\n",
            "Epoch 114/150: 100%|██████████| 60000/60000 [00:39<00:00, 1536.64it/s]\n",
            "Epoch 115/150: 100%|██████████| 60000/60000 [00:39<00:00, 1517.37it/s]\n",
            "Epoch 116/150: 100%|██████████| 60000/60000 [00:38<00:00, 1562.20it/s]\n",
            "Epoch 117/150: 100%|██████████| 60000/60000 [00:38<00:00, 1547.51it/s]\n",
            "Epoch 118/150: 100%|██████████| 60000/60000 [00:38<00:00, 1574.41it/s]\n",
            "Epoch 119/150: 100%|██████████| 60000/60000 [00:38<00:00, 1578.20it/s]\n",
            "Epoch 120/150: 100%|██████████| 60000/60000 [00:38<00:00, 1538.70it/s]\n",
            "Epoch 121/150: 100%|██████████| 60000/60000 [00:39<00:00, 1519.57it/s]\n",
            "Epoch 122/150: 100%|██████████| 60000/60000 [00:38<00:00, 1565.77it/s]\n",
            "Epoch 123/150: 100%|██████████| 60000/60000 [00:37<00:00, 1584.87it/s]\n",
            "Epoch 124/150: 100%|██████████| 60000/60000 [00:38<00:00, 1565.45it/s]\n",
            "Epoch 125/150: 100%|██████████| 60000/60000 [00:38<00:00, 1572.32it/s]\n",
            "Epoch 126/150: 100%|██████████| 60000/60000 [00:38<00:00, 1574.88it/s]\n",
            "Epoch 127/150: 100%|██████████| 60000/60000 [00:38<00:00, 1564.07it/s]\n",
            "Epoch 128/150: 100%|██████████| 60000/60000 [00:37<00:00, 1603.95it/s]\n",
            "Epoch 129/150: 100%|██████████| 60000/60000 [00:38<00:00, 1540.85it/s]\n",
            "Epoch 130/150: 100%|██████████| 60000/60000 [00:38<00:00, 1542.89it/s]\n",
            "Epoch 131/150: 100%|██████████| 60000/60000 [00:38<00:00, 1540.80it/s]\n",
            "Epoch 132/150: 100%|██████████| 60000/60000 [00:39<00:00, 1531.22it/s]\n",
            "Epoch 133/150: 100%|██████████| 60000/60000 [00:38<00:00, 1556.87it/s]\n",
            "Epoch 134/150: 100%|██████████| 60000/60000 [00:38<00:00, 1554.39it/s]\n",
            "Epoch 135/150: 100%|██████████| 60000/60000 [00:39<00:00, 1526.13it/s]\n",
            "Epoch 136/150: 100%|██████████| 60000/60000 [00:38<00:00, 1559.60it/s]\n",
            "Epoch 137/150: 100%|██████████| 60000/60000 [00:39<00:00, 1521.18it/s]\n",
            "Epoch 138/150: 100%|██████████| 60000/60000 [00:39<00:00, 1538.26it/s]\n",
            "Epoch 139/150: 100%|██████████| 60000/60000 [00:38<00:00, 1540.69it/s]\n",
            "Epoch 140/150: 100%|██████████| 60000/60000 [00:38<00:00, 1540.76it/s]\n",
            "Epoch 141/150: 100%|██████████| 60000/60000 [00:39<00:00, 1534.10it/s]\n",
            "Epoch 142/150: 100%|██████████| 60000/60000 [00:38<00:00, 1553.34it/s]\n",
            "Epoch 143/150: 100%|██████████| 60000/60000 [00:39<00:00, 1518.32it/s]\n",
            "Epoch 144/150: 100%|██████████| 60000/60000 [00:39<00:00, 1509.72it/s]\n",
            "Epoch 145/150: 100%|██████████| 60000/60000 [00:39<00:00, 1527.88it/s]\n",
            "Epoch 146/150: 100%|██████████| 60000/60000 [00:38<00:00, 1538.89it/s]\n",
            "Epoch 147/150: 100%|██████████| 60000/60000 [00:39<00:00, 1524.43it/s]\n",
            "Epoch 148/150: 100%|██████████| 60000/60000 [00:38<00:00, 1545.71it/s]\n",
            "Epoch 149/150: 100%|██████████| 60000/60000 [00:38<00:00, 1551.26it/s]\n",
            "Epoch 150/150: 100%|██████████| 60000/60000 [00:39<00:00, 1525.69it/s]\n"
          ]
        },
        {
          "output_type": "stream",
          "name": "stdout",
          "text": [
            "Test Accuracy: 0.9827\n",
            "Final accuracies: [(1, 25, 0.9817), (1, 50, 0.982), (1, 100, 0.9822), (1, 150, 0.9827)]\n",
            "Elapsed time: 5818.16 seconds\n"
          ]
        }
      ]
    }
  ],
  "metadata": {
    "colab": {
      "provenance": [],
      "machine_shape": "hm"
    },
    "kernelspec": {
      "display_name": "Python 3",
      "name": "python3"
    },
    "language_info": {
      "name": "python"
    }
  },
  "nbformat": 4,
  "nbformat_minor": 0
}