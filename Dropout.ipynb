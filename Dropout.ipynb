{
  "cells": [
    {
      "cell_type": "markdown",
      "id": "f4709271",
      "metadata": {
        "origin_pos": 1,
        "id": "f4709271"
      },
      "source": [
        "# Dropout\n",
        "\n",
        "Let's think briefly about what we\n",
        "expect from a good predictive model.\n",
        "We want it to peform well on unseen data.\n",
        "Classical generalization theory\n",
        "suggests that to close the gap between\n",
        "train and test performance,\n",
        "we should aim for a simple model.\n",
        "Simplicity can come in the form\n",
        "of a small number of dimensions.\n",
        "We explored this when discussing the\n",
        "monomial basis functions of linear models.\n",
        "Additionally, as we saw when discussing weight decay\n",
        "($\\ell_2$ regularization),\n",
        "the (inverse) norm of the parameters also\n",
        "represents a useful measure of simplicity.\n",
        "Another useful notion of simplicity is smoothness,\n",
        "i.e., that the function should not be sensitive\n",
        "to small changes to its inputs.\n",
        "For instance, when we classify images,\n",
        "we would expect that adding some random noise\n",
        "to the pixels should be mostly harmless.\n",
        "\n",
        "Scientists formalized\n",
        "this idea when he proved that training with input noise\n",
        "is equivalent to Tikhonov regularization.\n",
        "This work drew a clear mathematical connection\n",
        "between the requirement that a function be smooth (and thus simple),\n",
        "and the requirement that it be resilient\n",
        "to perturbations in the input.\n",
        "\n",
        "Then, :citet:`Srivastava.Hinton.Krizhevsky.ea.2014`\n",
        "developed a clever idea for how to apply Bishop's idea\n",
        "to the internal layers of a network, too.\n",
        "Their idea, called *dropout*, involves\n",
        "injecting noise while computing\n",
        "each internal layer during forward propagation,\n",
        "and it has become a standard technique\n",
        "for training neural networks.\n",
        "The method is called *dropout* because we literally\n",
        "*drop out* some neurons during training.\n",
        "Throughout training, on each iteration,\n",
        "standard dropout consists of zeroing out\n",
        "some fraction of the nodes in each layer\n",
        "before calculating the subsequent layer.\n",
        "\n",
        "To be clear, we are imposing\n",
        "our own narrative with the link to Bishop.\n",
        "The original paper on dropout\n",
        "offers intuition through a surprising\n",
        "analogy to sexual reproduction.\n",
        "The authors argue that neural network overfitting\n",
        "is characterized by a state in which\n",
        "each layer relies on a specific\n",
        "pattern of activations in the previous layer,\n",
        "calling this condition *co-adaptation*.\n",
        "Dropout, they claim, breaks up co-adaptation\n",
        "just as sexual reproduction is argued to\n",
        "break up co-adapted genes.\n",
        "While such an justification of this theory is certainly up for debate,\n",
        "the dropout technique itself has proved enduring,\n",
        "and various forms of dropout are implemented\n",
        "in most deep learning libraries.\n",
        "\n",
        "\n",
        "The key challenge is how to inject this noise.\n",
        "One idea is to inject it in an *unbiased* manner\n",
        "so that the expected value of each layer---while fixing\n",
        "the others---equals the value it would have taken absent noise.\n",
        "In Bishop's work, he added Gaussian noise\n",
        "to the inputs to a linear model.\n",
        "At each training iteration, he added noise\n",
        "sampled from a distribution with mean zero\n",
        "$\\epsilon \\sim \\mathcal{N}(0,\\sigma^2)$ to the input $\\mathbf{x}$,\n",
        "yielding a perturbed point $\\mathbf{x}' = \\mathbf{x} + \\epsilon$.\n",
        "In expectation, $E[\\mathbf{x}'] = \\mathbf{x}$.\n",
        "\n",
        "In standard dropout regularization,\n",
        "one zeros out some fraction of the nodes in each layer\n",
        "and then *debiases* each layer by normalizing\n",
        "by the fraction of nodes that were retained (not dropped out).\n",
        "In other words,\n",
        "with *dropout probability* $p$,\n",
        "each intermediate activation $h$ is replaced by\n",
        "a random variable $h'$ as follows:\n",
        "\n",
        "$$\n",
        "\\begin{aligned}\n",
        "h' =\n",
        "\\begin{cases}\n",
        "    0 & \\textrm{ with probability } p \\\\\n",
        "    \\frac{h}{1-p} & \\textrm{ otherwise}\n",
        "\\end{cases}\n",
        "\\end{aligned}\n",
        "$$\n",
        "\n",
        "By design, the expectation remains unchanged, i.e., $E[h'] = h$.\n"
      ]
    },
    {
      "cell_type": "code",
      "execution_count": 1,
      "id": "54feb90c",
      "metadata": {
        "execution": {
          "iopub.execute_input": "2023-08-18T19:33:10.343768Z",
          "iopub.status.busy": "2023-08-18T19:33:10.343431Z",
          "iopub.status.idle": "2023-08-18T19:33:13.572271Z",
          "shell.execute_reply": "2023-08-18T19:33:13.571155Z"
        },
        "origin_pos": 3,
        "tab": [
          "pytorch"
        ],
        "id": "54feb90c"
      },
      "outputs": [],
      "source": [
        "import torch\n",
        "from torch import nn"
      ]
    },
    {
      "cell_type": "markdown",
      "id": "4a048453",
      "metadata": {
        "origin_pos": 6,
        "id": "4a048453"
      },
      "source": [
        "## Dropout in Practice\n",
        "\n",
        "Recall the MLP with a hidden layer and five hidden units\n",
        "from :numref:`fig_mlp`.\n",
        "When we apply dropout to a hidden layer,\n",
        "zeroing out each hidden unit with probability $p$,\n",
        "the result can be viewed as a network\n",
        "containing only a subset of the original neurons.\n",
        "In :numref:`fig_dropout2`, $h_2$ and $h_5$ are removed.\n",
        "Consequently, the calculation of the outputs\n",
        "no longer depends on $h_2$ or $h_5$\n",
        "and their respective gradient also vanishes\n",
        "when performing backpropagation.\n",
        "In this way, the calculation of the output layer\n",
        "cannot be overly dependent on any\n",
        "one element of $h_1, \\ldots, h_5$.\n",
        "\n",
        "![MLP before and after dropout.](http://d2l.ai/_images/dropout2.svg)\n",
        ":label:`fig_dropout2`\n",
        "\n",
        "Typically, we disable dropout at test time.\n",
        "Given a trained model and a new example,\n",
        "we do not drop out any nodes\n",
        "and thus do not need to normalize.\n",
        "However, there are some exceptions:\n",
        "some researchers use dropout at test time as a heuristic\n",
        "for estimating the *uncertainty* of neural network predictions:\n",
        "if the predictions agree across many different dropout outputs,\n",
        "then we might say that the network is more confident.\n",
        "\n",
        "## Implementation from Scratch\n",
        "\n",
        "To implement the dropout function for a single layer,\n",
        "we must draw as many samples\n",
        "from a Bernoulli (binary) random variable\n",
        "as our layer has dimensions,\n",
        "where the random variable takes value $1$ (keep)\n",
        "with probability $1-p$ and $0$ (drop) with probability $p$.\n",
        "One easy way to implement this is to first draw samples\n",
        "from the uniform distribution $U[0, 1]$.\n",
        "Then we can keep those nodes for which the corresponding\n",
        "sample is greater than $p$, dropping the rest.\n",
        "\n",
        "In the following code, we (**implement a `dropout_layer` function\n",
        "that drops out the elements in the tensor input `X`\n",
        "with probability `dropout`**),\n",
        "rescaling the remainder as described above:\n",
        "dividing the survivors by `1.0-dropout`.\n"
      ]
    },
    {
      "cell_type": "code",
      "execution_count": 2,
      "id": "dcda4b93",
      "metadata": {
        "execution": {
          "iopub.execute_input": "2023-08-18T19:33:13.577007Z",
          "iopub.status.busy": "2023-08-18T19:33:13.576588Z",
          "iopub.status.idle": "2023-08-18T19:33:13.582474Z",
          "shell.execute_reply": "2023-08-18T19:33:13.581632Z"
        },
        "origin_pos": 8,
        "tab": [
          "pytorch"
        ],
        "id": "dcda4b93"
      },
      "outputs": [],
      "source": [
        "def dropout_layer(X, dropout):\n",
        "    assert 0 <= dropout <= 1\n",
        "    if dropout == 1: return torch.zeros_like(X)\n",
        "    mask = (torch.rand(X.shape) > dropout).float()\n",
        "    return mask * X / (1.0 - dropout)"
      ]
    },
    {
      "cell_type": "markdown",
      "id": "7a0d5f19",
      "metadata": {
        "origin_pos": 11,
        "id": "7a0d5f19"
      },
      "source": [
        "We can [**test out the `dropout_layer` function on a few examples**].\n",
        "In the following lines of code,\n",
        "we pass our input `X` through the dropout operation,\n",
        "with probabilities 0, 0.5, and 1, respectively.\n"
      ]
    },
    {
      "cell_type": "code",
      "execution_count": 3,
      "id": "1effb931",
      "metadata": {
        "execution": {
          "iopub.execute_input": "2023-08-18T19:33:13.587061Z",
          "iopub.status.busy": "2023-08-18T19:33:13.586226Z",
          "iopub.status.idle": "2023-08-18T19:33:13.614970Z",
          "shell.execute_reply": "2023-08-18T19:33:13.614053Z"
        },
        "origin_pos": 12,
        "tab": [
          "pytorch"
        ],
        "id": "1effb931",
        "outputId": "2a4a1643-30cd-4605-91c4-bd0c8c2253b3",
        "colab": {
          "base_uri": "https://localhost:8080/"
        }
      },
      "outputs": [
        {
          "output_type": "stream",
          "name": "stdout",
          "text": [
            "dropout_p = 0: tensor([[ 0.,  1.,  2.,  3.,  4.,  5.,  6.,  7.],\n",
            "        [ 8.,  9., 10., 11., 12., 13., 14., 15.]])\n",
            "dropout_p = 0.5: tensor([[ 0.,  0.,  0.,  0.,  0.,  0.,  0., 14.],\n",
            "        [ 0.,  0., 20.,  0., 24., 26.,  0.,  0.]])\n",
            "dropout_p = 1: tensor([[0., 0., 0., 0., 0., 0., 0., 0.],\n",
            "        [0., 0., 0., 0., 0., 0., 0., 0.]])\n"
          ]
        }
      ],
      "source": [
        "X = torch.arange(16, dtype = torch.float32).reshape((2, 8))\n",
        "print('dropout_p = 0:', dropout_layer(X, 0))\n",
        "print('dropout_p = 0.5:', dropout_layer(X, 0.5))\n",
        "print('dropout_p = 1:', dropout_layer(X, 1))"
      ]
    },
    {
      "cell_type": "markdown",
      "id": "087cdc90",
      "metadata": {
        "origin_pos": 13,
        "id": "087cdc90"
      },
      "source": [
        "### Defining the Model\n",
        "\n",
        "The model below applies dropout to the output\n",
        "of each hidden layer (following the activation function).\n",
        "We can set dropout probabilities for each layer separately.\n",
        "A common choice is to set\n",
        "a lower dropout probability closer to the input layer.\n",
        "We ensure that dropout is only active during training.\n"
      ]
    },
    {
      "cell_type": "code",
      "execution_count": 4,
      "id": "a98d0264",
      "metadata": {
        "execution": {
          "iopub.execute_input": "2023-08-18T19:33:13.618877Z",
          "iopub.status.busy": "2023-08-18T19:33:13.618261Z",
          "iopub.status.idle": "2023-08-18T19:33:13.626219Z",
          "shell.execute_reply": "2023-08-18T19:33:13.625088Z"
        },
        "origin_pos": 15,
        "tab": [
          "pytorch"
        ],
        "id": "a98d0264"
      },
      "outputs": [],
      "source": [
        "class DropoutMLPScratch(torch.nn.Module):\n",
        "    def __init__(self, num_outputs, num_hiddens_1, num_hiddens_2,\n",
        "                 dropout_1, dropout_2, lr):\n",
        "        super(DropoutMLPScratch, self).__init__()\n",
        "        self.lin1 = nn.LazyLinear(num_hiddens_1)\n",
        "        self.lin2 = nn.LazyLinear(num_hiddens_2)\n",
        "        self.lin3 = nn.LazyLinear(num_outputs)\n",
        "        self.relu = nn.ReLU()\n",
        "        self.dropout_1 = dropout_1\n",
        "        self.dropout_2 = dropout_2\n",
        "\n",
        "\n",
        "    def forward(self, X):\n",
        "        H1 = self.relu(self.lin1(X.reshape((X.shape[0], -1))))\n",
        "        if self.training:\n",
        "            H1 = dropout_layer(H1, self.dropout_1)\n",
        "        H2 = self.relu(self.lin2(H1))\n",
        "        if self.training:\n",
        "            H2 = dropout_layer(H2, self.dropout_2)\n",
        "        return self.lin3(H2)"
      ]
    },
    {
      "cell_type": "markdown",
      "id": "2793a6d2",
      "metadata": {
        "origin_pos": 18,
        "id": "2793a6d2"
      },
      "source": [
        "### Training\n",
        "\n",
        "Write your code to train the provided network similar to the training of MLPs described early in the lectures on the FashionMNIST Dataset for 10 epochs.\n",
        "\n",
        "https://pytorch.org/vision/0.19/generated/torchvision.datasets.FashionMNIST.html\n"
      ]
    },
    {
      "cell_type": "code",
      "source": [
        "hparams = {'num_outputs':10, 'num_hiddens_1':256, 'num_hiddens_2':256,\n",
        "           'dropout_1':0.5, 'dropout_2':0.5, 'lr':0.1}\n",
        "model = DropoutMLPScratch(**hparams)\n",
        "\n",
        "#write your training and testing code here\n",
        "import torch.optim as optim\n",
        "from torchvision import datasets, transforms\n",
        "from torch.utils.data import DataLoader\n",
        "\n",
        "# Data transformations\n",
        "transform = transforms.Compose([\n",
        "    transforms.ToTensor(),\n",
        "    transforms.Lambda(lambda x: x.view(-1))  # Flatten the image to 784 features\n",
        "])\n",
        "# Load Fashion MNIST dataset\n",
        "train_dataset = datasets.FashionMNIST(root='./data', train=True, download=True, transform=transform)\n",
        "test_dataset = datasets.FashionMNIST(root='./data', train=False, download=True, transform=transform)\n",
        "\n",
        "# Create DataLoader\n",
        "train_loader = DataLoader(train_dataset, batch_size=32, shuffle=True)\n",
        "test_loader = DataLoader(test_dataset, batch_size=32)\n",
        "\n",
        "# Loss and Optimizer\n",
        "criterion = nn.CrossEntropyLoss()\n",
        "optimizer = optim.SGD(model.parameters(), lr=hparams['lr'])\n",
        "\n",
        "train_accuracies = []\n",
        "test_accuracies = []\n",
        "num_epochs = 10\n",
        "\n",
        "for epoch in range(num_epochs):\n",
        "    # Training phase\n",
        "    model.train()\n",
        "    correct_train = 0\n",
        "    total_train = 0\n",
        "    for X_batch, y_batch in train_loader:\n",
        "        optimizer.zero_grad()\n",
        "        outputs = model(X_batch)\n",
        "        loss = criterion(outputs, y_batch)\n",
        "        loss.backward()\n",
        "        optimizer.step()\n",
        "        _, predicted = torch.max(outputs, 1)\n",
        "        total_train += y_batch.size(0)\n",
        "        correct_train += (predicted == y_batch).sum().item()\n",
        "\n",
        "    train_accuracy = 100 * correct_train / total_train\n",
        "    train_accuracies.append(train_accuracy)\n",
        "\n",
        "    # Testing phase\n",
        "    model.eval()\n",
        "    correct_test = 0\n",
        "    total_test = 0\n",
        "    with torch.no_grad():\n",
        "        for X_batch, y_batch in test_loader:\n",
        "            outputs = model(X_batch)\n",
        "            _, predicted = torch.max(outputs, 1)\n",
        "            total_test += y_batch.size(0)\n",
        "            correct_test += (predicted == y_batch).sum().item()\n",
        "\n",
        "    test_accuracy = 100 * correct_test / total_test\n",
        "    test_accuracies.append(test_accuracy)\n",
        "\n",
        "    print(f'Epoch {epoch + 1}, Train Accuracy: {train_accuracy:.2f}%, Test Accuracy: {test_accuracy:.2f}%')\n"
      ],
      "metadata": {
        "colab": {
          "base_uri": "https://localhost:8080/"
        },
        "id": "NYuEUVjWT_bA",
        "outputId": "cf8c0b0d-c829-4e0f-e200-80165a074c92"
      },
      "id": "NYuEUVjWT_bA",
      "execution_count": 6,
      "outputs": [
        {
          "output_type": "stream",
          "name": "stdout",
          "text": [
            "Epoch 1, Train Accuracy: 73.53%, Test Accuracy: 81.60%\n",
            "Epoch 2, Train Accuracy: 81.33%, Test Accuracy: 83.35%\n",
            "Epoch 3, Train Accuracy: 82.97%, Test Accuracy: 81.58%\n",
            "Epoch 4, Train Accuracy: 84.03%, Test Accuracy: 84.80%\n",
            "Epoch 5, Train Accuracy: 84.44%, Test Accuracy: 85.49%\n",
            "Epoch 6, Train Accuracy: 84.91%, Test Accuracy: 85.75%\n",
            "Epoch 7, Train Accuracy: 85.30%, Test Accuracy: 85.72%\n",
            "Epoch 8, Train Accuracy: 85.79%, Test Accuracy: 86.44%\n",
            "Epoch 9, Train Accuracy: 85.88%, Test Accuracy: 86.52%\n",
            "Epoch 10, Train Accuracy: 86.23%, Test Accuracy: 85.81%\n"
          ]
        }
      ]
    },
    {
      "cell_type": "markdown",
      "source": [
        "**I thought of implementing the MLP without dropout to compare and understand the performance of dropout technique**\n",
        "## Building an MLP without dropout application"
      ],
      "metadata": {
        "id": "VYKsAAoIcHyd"
      },
      "id": "VYKsAAoIcHyd"
    },
    {
      "cell_type": "code",
      "source": [
        "import torch\n",
        "import torch.nn as nn\n",
        "\n",
        "class MLPScratch(torch.nn.Module):\n",
        "    def __init__(self, num_outputs, num_hiddens_1, num_hiddens_2,lr):\n",
        "        super(MLPScratch, self).__init__()\n",
        "        self.lin1 = nn.LazyLinear(num_hiddens_1)\n",
        "        self.lin2 = nn.LazyLinear(num_hiddens_2)\n",
        "        self.lin3 = nn.LazyLinear(num_outputs)\n",
        "        self.relu = nn.ReLU()\n",
        "\n",
        "    def forward(self, X):\n",
        "        H1 = self.relu(self.lin1(X.reshape((X.shape[0], -1))))\n",
        "        H2 = self.relu(self.lin2(H1))\n",
        "        return self.lin3(H2)\n",
        "\n"
      ],
      "metadata": {
        "id": "xVGEbUQAYEOl"
      },
      "id": "xVGEbUQAYEOl",
      "execution_count": 9,
      "outputs": []
    },
    {
      "cell_type": "code",
      "source": [
        "hparams = {'num_outputs':10, 'num_hiddens_1':256, 'num_hiddens_2':256,\n",
        "            'lr':0.1}\n",
        "model_1 = MLPScratch(**hparams)\n",
        "\n",
        "#write your training and testing code here\n",
        "import torch.optim as optim\n",
        "from torchvision import datasets, transforms\n",
        "from torch.utils.data import DataLoader\n",
        "\n",
        "# Data transformations\n",
        "transform = transforms.Compose([\n",
        "    transforms.ToTensor(),\n",
        "    transforms.Lambda(lambda x: x.view(-1))  # Flatten the image to 784 features\n",
        "])\n",
        "# Load Fashion MNIST dataset\n",
        "train_dataset = datasets.FashionMNIST(root='./data', train=True, download=True, transform=transform)\n",
        "test_dataset = datasets.FashionMNIST(root='./data', train=False, download=True, transform=transform)\n",
        "\n",
        "# Create DataLoader\n",
        "train_loader = DataLoader(train_dataset, batch_size=32, shuffle=True)\n",
        "test_loader = DataLoader(test_dataset, batch_size=32)\n",
        "\n",
        "# Loss and Optimizer\n",
        "criterion = nn.CrossEntropyLoss()\n",
        "optimizer = optim.SGD(model_1.parameters(), lr=hparams['lr'])\n",
        "\n",
        "train_accuracies = []\n",
        "test_accuracies = []\n",
        "num_epochs = 10\n",
        "\n",
        "for epoch in range(num_epochs):\n",
        "    # Training phase\n",
        "    model_1.train()\n",
        "    correct_train = 0\n",
        "    total_train = 0\n",
        "    for X_batch, y_batch in train_loader:\n",
        "        optimizer.zero_grad()\n",
        "        outputs = model_1(X_batch)\n",
        "        loss = criterion(outputs, y_batch)\n",
        "        loss.backward()\n",
        "        optimizer.step()\n",
        "        _, predicted = torch.max(outputs, 1)\n",
        "        total_train += y_batch.size(0)\n",
        "        correct_train += (predicted == y_batch).sum().item()\n",
        "\n",
        "    train_accuracy = 100 * correct_train / total_train\n",
        "    train_accuracies.append(train_accuracy)\n",
        "\n",
        "    # Testing phase\n",
        "    model.eval()\n",
        "    correct_test = 0\n",
        "    total_test = 0\n",
        "    with torch.no_grad():\n",
        "        for X_batch, y_batch in test_loader:\n",
        "            outputs = model_1(X_batch)\n",
        "            _, predicted = torch.max(outputs, 1)\n",
        "            total_test += y_batch.size(0)\n",
        "            correct_test += (predicted == y_batch).sum().item()\n",
        "\n",
        "    test_accuracy = 100 * correct_test / total_test\n",
        "    test_accuracies.append(test_accuracy)\n",
        "\n",
        "    print(f'Epoch {epoch + 1}, Train Accuracy: {train_accuracy:.2f}%, Test Accuracy: {test_accuracy:.2f}%')\n"
      ],
      "metadata": {
        "colab": {
          "base_uri": "https://localhost:8080/"
        },
        "id": "D25Xg1HhYMKK",
        "outputId": "b3158916-3075-44d4-d256-7a363a3e5a86"
      },
      "id": "D25Xg1HhYMKK",
      "execution_count": 11,
      "outputs": [
        {
          "output_type": "stream",
          "name": "stdout",
          "text": [
            "Epoch 1, Train Accuracy: 79.08%, Test Accuracy: 80.77%\n",
            "Epoch 2, Train Accuracy: 85.32%, Test Accuracy: 85.23%\n",
            "Epoch 3, Train Accuracy: 86.74%, Test Accuracy: 85.92%\n",
            "Epoch 4, Train Accuracy: 87.75%, Test Accuracy: 86.63%\n",
            "Epoch 5, Train Accuracy: 88.45%, Test Accuracy: 86.61%\n",
            "Epoch 6, Train Accuracy: 88.99%, Test Accuracy: 86.36%\n",
            "Epoch 7, Train Accuracy: 89.63%, Test Accuracy: 87.42%\n",
            "Epoch 8, Train Accuracy: 89.90%, Test Accuracy: 87.81%\n",
            "Epoch 9, Train Accuracy: 90.32%, Test Accuracy: 88.89%\n",
            "Epoch 10, Train Accuracy: 90.64%, Test Accuracy: 88.65%\n"
          ]
        }
      ]
    },
    {
      "cell_type": "markdown",
      "source": [
        "The comparison between the models using dropout and those without reveals key differences in performance. The model with dropout initially showed a higher test accuracy of 86.76%, indicating that the dropout layers effectively helped mitigate overfitting by preventing the model from memorizing the training data. In contrast, the model without dropout achieved a training accuracy of 90.64% and a test accuracy of 88.89%, suggesting good generalization but also potential overfitting since the training accuracy continued to rise while test accuracy stabilized.\n",
        "\n",
        "Using dropout appears to be effective in improving the model's ability to generalize to unseen data, as evidenced by the initial better performance in the model with dropout. The dropout model's more consistent performance across epochs suggests that it may better handle the complexity of the task, especially in preventing overfitting compared to the model without dropout. Overall, the results suggest that incorporating dropout can enhance model robustness in certain scenarios.\n",
        "\n",
        "\n",
        "\n"
      ],
      "metadata": {
        "id": "quK-JbjSbX6Z"
      },
      "id": "quK-JbjSbX6Z"
    },
    {
      "cell_type": "markdown",
      "id": "101c89c1",
      "metadata": {
        "origin_pos": 20,
        "id": "101c89c1"
      },
      "source": [
        "## Higher Level Implementation\n",
        "\n",
        "With high-level APIs, all we need to do is add a `Dropout` layer\n",
        "after each fully connected layer,\n",
        "passing in the dropout probability\n",
        "as the only argument to its constructor.\n",
        "During training, the `Dropout` layer will randomly\n",
        "drop out outputs of the previous layer\n",
        "(or equivalently, the inputs to the subsequent layer)\n",
        "according to the specified dropout probability.\n",
        "When not in training mode,\n",
        "the `Dropout` layer simply passes the data through during testing.\n"
      ]
    },
    {
      "cell_type": "code",
      "execution_count": 12,
      "id": "224bafde",
      "metadata": {
        "execution": {
          "iopub.execute_input": "2023-08-18T19:34:13.202812Z",
          "iopub.status.busy": "2023-08-18T19:34:13.202080Z",
          "iopub.status.idle": "2023-08-18T19:34:13.208377Z",
          "shell.execute_reply": "2023-08-18T19:34:13.207307Z"
        },
        "origin_pos": 22,
        "tab": [
          "pytorch"
        ],
        "id": "224bafde"
      },
      "outputs": [],
      "source": [
        "class DropoutMLP(torch.nn.Module):\n",
        "    def __init__(self, num_outputs, num_hiddens_1, num_hiddens_2,\n",
        "                 dropout_1, dropout_2, lr):\n",
        "        super(DropoutMLP, self).__init__()\n",
        "        self.net = nn.Sequential(\n",
        "            nn.Flatten(), nn.LazyLinear(num_hiddens_1), nn.ReLU(),\n",
        "            nn.Dropout(dropout_1), nn.LazyLinear(num_hiddens_2), nn.ReLU(),\n",
        "            nn.Dropout(dropout_2), nn.LazyLinear(num_outputs))\n",
        "\n",
        "    def forward(self, X):\n",
        "        return self.net(X)\n"
      ]
    },
    {
      "cell_type": "markdown",
      "id": "877d8ec2",
      "metadata": {
        "origin_pos": 27,
        "id": "877d8ec2"
      },
      "source": [
        "\n",
        "\n",
        "\n",
        "\n",
        "Next, write your code to train the given model on the FashionMNIST Dataset for 10 epochs.\n"
      ]
    },
    {
      "cell_type": "code",
      "source": [
        "hparams = {'num_outputs':10, 'num_hiddens_1':256, 'num_hiddens_2':256,\n",
        "           'dropout_1':0.5, 'dropout_2':0.5, 'lr':0.1}\n",
        "model = DropoutMLP(**hparams)\n",
        "\n",
        "#write your training and testing code here\n",
        "import torch.optim as optim\n",
        "from torchvision import datasets, transforms\n",
        "from torch.utils.data import DataLoader\n",
        "\n",
        "# Data transformations\n",
        "transform = transforms.Compose([\n",
        "    transforms.ToTensor(),\n",
        "    transforms.Lambda(lambda x: x.view(-1))  # Flatten the image to 784 features\n",
        "])\n",
        "# Load Fashion MNIST dataset\n",
        "train_dataset = datasets.FashionMNIST(root='./data', train=True, download=True, transform=transform)\n",
        "test_dataset = datasets.FashionMNIST(root='./data', train=False, download=True, transform=transform)\n",
        "\n",
        "# Create DataLoader\n",
        "train_loader = DataLoader(train_dataset, batch_size=32, shuffle=True)\n",
        "test_loader = DataLoader(test_dataset, batch_size=32)\n",
        "\n",
        "# Loss and Optimizer\n",
        "criterion = nn.CrossEntropyLoss()\n",
        "optimizer = optim.SGD(model.parameters(), lr=hparams['lr'])\n",
        "\n",
        "train_accuracies = []\n",
        "test_accuracies = []\n",
        "num_epochs = 10\n",
        "\n",
        "for epoch in range(num_epochs):\n",
        "    # Training phase\n",
        "    model.train()\n",
        "    correct_train = 0\n",
        "    total_train = 0\n",
        "    for X_batch, y_batch in train_loader:\n",
        "        optimizer.zero_grad()\n",
        "        outputs = model(X_batch)\n",
        "        loss = criterion(outputs, y_batch)\n",
        "        loss.backward()\n",
        "        optimizer.step()\n",
        "        _, predicted = torch.max(outputs, 1)\n",
        "        total_train += y_batch.size(0)\n",
        "        correct_train += (predicted == y_batch).sum().item()\n",
        "\n",
        "    train_accuracy = 100 * correct_train / total_train\n",
        "    train_accuracies.append(train_accuracy)\n",
        "\n",
        "    # Testing phase\n",
        "    model.eval()\n",
        "    correct_test = 0\n",
        "    total_test = 0\n",
        "    with torch.no_grad():\n",
        "        for X_batch, y_batch in test_loader:\n",
        "            outputs = model(X_batch)\n",
        "            _, predicted = torch.max(outputs, 1)\n",
        "            total_test += y_batch.size(0)\n",
        "            correct_test += (predicted == y_batch).sum().item()\n",
        "\n",
        "    test_accuracy = 100 * correct_test / total_test\n",
        "    test_accuracies.append(test_accuracy)\n",
        "\n",
        "    print(f'Epoch {epoch + 1}, Train Accuracy: {train_accuracy:.2f}%, Test Accuracy: {test_accuracy:.2f}%')\n"
      ],
      "metadata": {
        "colab": {
          "base_uri": "https://localhost:8080/"
        },
        "id": "QCmSGqMLdvwO",
        "outputId": "c66429f5-fd63-4049-ef1b-dc4c680caebf"
      },
      "id": "QCmSGqMLdvwO",
      "execution_count": 14,
      "outputs": [
        {
          "output_type": "stream",
          "name": "stdout",
          "text": [
            "Epoch 1, Train Accuracy: 73.73%, Test Accuracy: 79.52%\n",
            "Epoch 2, Train Accuracy: 81.36%, Test Accuracy: 83.61%\n",
            "Epoch 3, Train Accuracy: 82.94%, Test Accuracy: 84.86%\n",
            "Epoch 4, Train Accuracy: 83.91%, Test Accuracy: 85.54%\n",
            "Epoch 5, Train Accuracy: 84.60%, Test Accuracy: 85.42%\n",
            "Epoch 6, Train Accuracy: 85.04%, Test Accuracy: 86.48%\n",
            "Epoch 7, Train Accuracy: 85.34%, Test Accuracy: 85.87%\n",
            "Epoch 8, Train Accuracy: 85.49%, Test Accuracy: 86.40%\n",
            "Epoch 9, Train Accuracy: 85.90%, Test Accuracy: 86.89%\n",
            "Epoch 10, Train Accuracy: 86.28%, Test Accuracy: 86.52%\n"
          ]
        }
      ]
    },
    {
      "cell_type": "markdown",
      "source": [
        "## Model without dropout"
      ],
      "metadata": {
        "id": "l4wfDMUPgruf"
      },
      "id": "l4wfDMUPgruf"
    },
    {
      "cell_type": "code",
      "source": [
        "import torch\n",
        "import torch.nn as nn\n",
        "\n",
        "class MLP(torch.nn.Module):\n",
        "    def __init__(self, num_outputs, num_hiddens_1, num_hiddens_2,lr):\n",
        "        super(MLP, self).__init__()\n",
        "        self.net = nn.Sequential(\n",
        "            nn.Flatten(),\n",
        "            nn.LazyLinear(num_hiddens_1),\n",
        "            nn.ReLU(),\n",
        "            nn.LazyLinear(num_hiddens_2),\n",
        "            nn.ReLU(),\n",
        "            nn.LazyLinear(num_outputs)\n",
        "        )\n",
        "\n",
        "    def forward(self, X):\n",
        "        return self.net(X)\n"
      ],
      "metadata": {
        "id": "W4xA_-VAgptc"
      },
      "id": "W4xA_-VAgptc",
      "execution_count": 17,
      "outputs": []
    },
    {
      "cell_type": "code",
      "source": [
        "hparams = {'num_outputs':10, 'num_hiddens_1':256, 'num_hiddens_2':256,\n",
        "            'lr':0.1}\n",
        "model_1 = MLP(**hparams)\n",
        "\n",
        "#write your training and testing code here\n",
        "import torch.optim as optim\n",
        "from torchvision import datasets, transforms\n",
        "from torch.utils.data import DataLoader\n",
        "\n",
        "# Data transformations\n",
        "transform = transforms.Compose([\n",
        "    transforms.ToTensor(),\n",
        "    transforms.Lambda(lambda x: x.view(-1))  # Flatten the image to 784 features\n",
        "])\n",
        "# Load Fashion MNIST dataset\n",
        "train_dataset = datasets.FashionMNIST(root='./data', train=True, download=True, transform=transform)\n",
        "test_dataset = datasets.FashionMNIST(root='./data', train=False, download=True, transform=transform)\n",
        "\n",
        "# Create DataLoader\n",
        "train_loader = DataLoader(train_dataset, batch_size=32, shuffle=True)\n",
        "test_loader = DataLoader(test_dataset, batch_size=32)\n",
        "\n",
        "# Loss and Optimizer\n",
        "criterion = nn.CrossEntropyLoss()\n",
        "optimizer = optim.SGD(model_1.parameters(), lr=hparams['lr'])\n",
        "\n",
        "train_accuracies = []\n",
        "test_accuracies = []\n",
        "num_epochs = 10\n",
        "\n",
        "for epoch in range(num_epochs):\n",
        "    # Training phase\n",
        "    model_1.train()\n",
        "    correct_train = 0\n",
        "    total_train = 0\n",
        "    for X_batch, y_batch in train_loader:\n",
        "        optimizer.zero_grad()\n",
        "        outputs = model_1(X_batch)\n",
        "        loss = criterion(outputs, y_batch)\n",
        "        loss.backward()\n",
        "        optimizer.step()\n",
        "        _, predicted = torch.max(outputs, 1)\n",
        "        total_train += y_batch.size(0)\n",
        "        correct_train += (predicted == y_batch).sum().item()\n",
        "\n",
        "    train_accuracy = 100 * correct_train / total_train\n",
        "    train_accuracies.append(train_accuracy)\n",
        "\n",
        "    # Testing phase\n",
        "    model.eval()\n",
        "    correct_test = 0\n",
        "    total_test = 0\n",
        "    with torch.no_grad():\n",
        "        for X_batch, y_batch in test_loader:\n",
        "            outputs = model_1(X_batch)\n",
        "            _, predicted = torch.max(outputs, 1)\n",
        "            total_test += y_batch.size(0)\n",
        "            correct_test += (predicted == y_batch).sum().item()\n",
        "\n",
        "    test_accuracy = 100 * correct_test / total_test\n",
        "    test_accuracies.append(test_accuracy)\n",
        "\n",
        "    print(f'Epoch {epoch + 1}, Train Accuracy: {train_accuracy:.2f}%, Test Accuracy: {test_accuracy:.2f}%')\n"
      ],
      "metadata": {
        "colab": {
          "base_uri": "https://localhost:8080/"
        },
        "id": "vXu3H2OphU0k",
        "outputId": "0b497c3c-b4d9-4ca7-e559-9c3e698b1423"
      },
      "id": "vXu3H2OphU0k",
      "execution_count": 19,
      "outputs": [
        {
          "output_type": "stream",
          "name": "stdout",
          "text": [
            "Epoch 1, Train Accuracy: 78.89%, Test Accuracy: 84.30%\n",
            "Epoch 2, Train Accuracy: 85.39%, Test Accuracy: 84.60%\n",
            "Epoch 3, Train Accuracy: 86.81%, Test Accuracy: 86.42%\n",
            "Epoch 4, Train Accuracy: 87.62%, Test Accuracy: 87.05%\n",
            "Epoch 5, Train Accuracy: 88.45%, Test Accuracy: 86.71%\n",
            "Epoch 6, Train Accuracy: 88.98%, Test Accuracy: 87.27%\n",
            "Epoch 7, Train Accuracy: 89.48%, Test Accuracy: 87.17%\n",
            "Epoch 8, Train Accuracy: 89.92%, Test Accuracy: 87.25%\n",
            "Epoch 9, Train Accuracy: 90.33%, Test Accuracy: 87.68%\n",
            "Epoch 10, Train Accuracy: 90.57%, Test Accuracy: 88.17%\n"
          ]
        }
      ]
    },
    {
      "cell_type": "markdown",
      "source": [
        "The comparison between the models with and without dropout highlights notable differences in performance. The model with dropout started with a training accuracy of 78.89% and a test accuracy of 84.30%, while the model without dropout began at 73.73% for training and 79.52% for testing. Over ten epochs, the dropout model steadily improved, achieving a final training accuracy of 86.28% and a test accuracy of 86.52%. In contrast, the no-dropout model reached a higher training accuracy of 90.57% but only managed a test accuracy of 88.17%.\n",
        "\n"
      ],
      "metadata": {
        "id": "HM0OslwmkRdE"
      },
      "id": "HM0OslwmkRdE"
    },
    {
      "cell_type": "markdown",
      "id": "54985a45",
      "metadata": {
        "origin_pos": 29,
        "id": "54985a45"
      },
      "source": [
        "## Summary\n",
        "\n",
        "Beyond controlling the number of dimensions and the size of the weight vector, dropout is yet another tool for avoiding overfitting. Often tools are used jointly.\n",
        "Note that dropout is\n",
        "used only during training:\n",
        "it replaces an activation $h$ with a random variable with expected value $h$.\n",
        "\n",
        "\n",
        "## Exercises\n",
        "\n",
        "1. What happens if you change the dropout probabilities for the first and second layers? In particular, what happens if you switch the ones for both layers? Design an experiment to answer these questions, describe your results quantitatively, and summarize the qualitative takeaways.\n",
        "1. Increase the number of epochs to 50 and compare the results.\n",
        "1. Why is dropout not typically used at test time?\n",
        "\n"
      ]
    },
    {
      "cell_type": "markdown",
      "source": [
        "## Exercise 1:\n",
        "What happens if you change the dropout probabilities for the first and second layers? In particular, what happens if you switch the ones for both layers? Design an experiment to answer these questions, describe your results quantitatively, and summarize the qualitative takeaways.\n"
      ],
      "metadata": {
        "id": "g9Ef3O-Zr3KK"
      },
      "id": "g9Ef3O-Zr3KK"
    },
    {
      "cell_type": "code",
      "source": [
        "# Here, I used the model DropoutMLP\n",
        "hparams = {'num_outputs':10, 'num_hiddens_1':256, 'num_hiddens_2':256,\n",
        "           'dropout_1':0.3, 'dropout_2':0.7, 'lr':0.1}\n",
        "model = DropoutMLP(**hparams)\n",
        "\n",
        "#write your training and testing code here\n",
        "import torch.optim as optim\n",
        "from torchvision import datasets, transforms\n",
        "from torch.utils.data import DataLoader\n",
        "\n",
        "# Data transformations\n",
        "transform = transforms.Compose([\n",
        "    transforms.ToTensor(),\n",
        "    transforms.Lambda(lambda x: x.view(-1))  # Flatten the image to 784 features\n",
        "])\n",
        "\n",
        "# Load Fashion MNIST dataset\n",
        "train_dataset = datasets.FashionMNIST(root='./data', train=True, download=True, transform=transform)\n",
        "test_dataset = datasets.FashionMNIST(root='./data', train=False, download=True, transform=transform)\n",
        "\n",
        "# Create DataLoader\n",
        "train_loader = DataLoader(train_dataset, batch_size=32, shuffle=True)\n",
        "test_loader = DataLoader(test_dataset, batch_size=32)\n",
        "\n",
        "# Loss and Optimizer\n",
        "criterion = nn.CrossEntropyLoss()\n",
        "optimizer = optim.SGD(model.parameters(), lr=hparams['lr'])\n",
        "\n",
        "# Training Loop\n",
        "num_epochs = 10\n",
        "for epoch in range(num_epochs):\n",
        "    model.train()  # Set the model to training mode\n",
        "    total_loss = 0.0\n",
        "    for X_batch, y_batch in train_loader:\n",
        "        optimizer.zero_grad()  # Clear gradients\n",
        "        outputs = model(X_batch)  # Forward pass\n",
        "        loss = criterion(outputs, y_batch)  # Compute loss\n",
        "        loss.backward()  # Backpropagation\n",
        "        optimizer.step()  # Update weights\n",
        "        total_loss += loss.item()\n",
        "\n",
        "    print(f'Epoch [{epoch+1}/{num_epochs}], Loss: {total_loss/len(train_loader):.4f}')\n",
        "\n",
        "# Testing Loop\n",
        "model.eval()  # Set the model to evaluation mode\n",
        "correct = 0\n",
        "total = 0\n",
        "\n",
        "with torch.no_grad():  # No gradient calculation\n",
        "    for X_batch, y_batch in test_loader:\n",
        "        outputs = model(X_batch)  # Forward pass\n",
        "        _, predicted = torch.max(outputs, 1)  # Get the predicted class\n",
        "        total += y_batch.size(0)  # Number of samples\n",
        "        correct += (predicted == y_batch).sum().item()  # Count correct predictions\n",
        "\n",
        "print(f'Accuracy: {100 * correct / total:.2f}%')\n"
      ],
      "metadata": {
        "colab": {
          "base_uri": "https://localhost:8080/"
        },
        "id": "sqVIv4vu--OQ",
        "outputId": "3365de9c-2da3-4884-e38d-f5ee8d0f4863"
      },
      "id": "sqVIv4vu--OQ",
      "execution_count": null,
      "outputs": [
        {
          "output_type": "stream",
          "name": "stdout",
          "text": [
            "Epoch [1/10], Loss: 0.7233\n",
            "Epoch [2/10], Loss: 0.5043\n",
            "Epoch [3/10], Loss: 0.4577\n",
            "Epoch [4/10], Loss: 0.4329\n",
            "Epoch [5/10], Loss: 0.4125\n",
            "Epoch [6/10], Loss: 0.3963\n",
            "Epoch [7/10], Loss: 0.3855\n",
            "Epoch [8/10], Loss: 0.3751\n",
            "Epoch [9/10], Loss: 0.3661\n",
            "Epoch [10/10], Loss: 0.3607\n",
            "Accuracy: 86.67%\n"
          ]
        }
      ]
    },
    {
      "cell_type": "code",
      "source": [
        "hparams = {'num_outputs':10, 'num_hiddens_1':256, 'num_hiddens_2':256,\n",
        "           'dropout_1':0.7, 'dropout_2':0.3, 'lr':0.1}\n",
        "model = DropoutMLP(**hparams)\n",
        "\n",
        "#write your training and testing code here\n",
        "import torch.optim as optim\n",
        "from torchvision import datasets, transforms\n",
        "from torch.utils.data import DataLoader\n",
        "\n",
        "# Data transformations\n",
        "transform = transforms.Compose([\n",
        "    transforms.ToTensor(),\n",
        "    transforms.Lambda(lambda x: x.view(-1))  # Flatten the image to 784 features\n",
        "])\n",
        "\n",
        "# Load Fashion MNIST dataset\n",
        "train_dataset = datasets.FashionMNIST(root='./data', train=True, download=True, transform=transform)\n",
        "test_dataset = datasets.FashionMNIST(root='./data', train=False, download=True, transform=transform)\n",
        "\n",
        "# Create DataLoader\n",
        "train_loader = DataLoader(train_dataset, batch_size=32, shuffle=True)\n",
        "test_loader = DataLoader(test_dataset, batch_size=32)\n",
        "\n",
        "# Loss and Optimizer\n",
        "criterion = nn.CrossEntropyLoss()\n",
        "optimizer = optim.SGD(model.parameters(), lr=hparams['lr'])\n",
        "\n",
        "# Training Loop\n",
        "num_epochs = 10\n",
        "for epoch in range(num_epochs):\n",
        "    model.train()  # Set the model to training mode\n",
        "    total_loss = 0.0\n",
        "    for X_batch, y_batch in train_loader:\n",
        "        optimizer.zero_grad()  # Clear gradients\n",
        "        outputs = model(X_batch)  # Forward pass\n",
        "        loss = criterion(outputs, y_batch)  # Compute loss\n",
        "        loss.backward()  # Backpropagation\n",
        "        optimizer.step()  # Update weights\n",
        "        total_loss += loss.item()\n",
        "\n",
        "    print(f'Epoch [{epoch+1}/{num_epochs}], Loss: {total_loss/len(train_loader):.4f}')\n",
        "\n",
        "# Testing Loop\n",
        "model.eval()  # Set the model to evaluation mode\n",
        "correct = 0\n",
        "total = 0\n",
        "\n",
        "with torch.no_grad():  # No gradient calculation\n",
        "    for X_batch, y_batch in test_loader:\n",
        "        outputs = model(X_batch)  # Forward pass\n",
        "        _, predicted = torch.max(outputs, 1)  # Get the predicted class\n",
        "        total += y_batch.size(0)  # Number of samples\n",
        "        correct += (predicted == y_batch).sum().item()  # Count correct predictions\n",
        "\n",
        "print(f'Accuracy: {100 * correct / total:.2f}%')\n"
      ],
      "metadata": {
        "colab": {
          "base_uri": "https://localhost:8080/"
        },
        "id": "KYI1pwQC_sxH",
        "outputId": "6498e15e-a7fd-4daa-8dcd-a7cac96a18fa"
      },
      "id": "KYI1pwQC_sxH",
      "execution_count": null,
      "outputs": [
        {
          "output_type": "stream",
          "name": "stdout",
          "text": [
            "Epoch [1/10], Loss: 0.7855\n",
            "Epoch [2/10], Loss: 0.5755\n",
            "Epoch [3/10], Loss: 0.5273\n",
            "Epoch [4/10], Loss: 0.5045\n",
            "Epoch [5/10], Loss: 0.4804\n",
            "Epoch [6/10], Loss: 0.4702\n",
            "Epoch [7/10], Loss: 0.4611\n",
            "Epoch [8/10], Loss: 0.4455\n",
            "Epoch [9/10], Loss: 0.4452\n",
            "Epoch [10/10], Loss: 0.4358\n",
            "Accuracy: 85.92%\n"
          ]
        }
      ]
    },
    {
      "cell_type": "markdown",
      "source": [
        "In my experiment, I changed the dropout rates for the first and second layers, setting the first one to 0.3 and the second one to 0.7. With these settings, the model achieved a final accuracy of 86.67%, and the loss decreased consistently over ten epochs, starting from 0.7233 and dropping to 0.3607. This setup allowed the model to learn effectively, suggesting that a moderate dropout in the first layer helps keep important features while also promoting better generalization.\n",
        "\n",
        "When I switched the rates—setting the first layer to 0.7 and the second to 0.3—the model's accuracy dropped slightly to 85.92%. The loss values started higher at 0.7855 and went down to 0.4358, indicating that learning was less effective this time. The higher dropout in the first layer likely removed too much important information early on, which hurt the model's overall performance.\n",
        "\n",
        "**Summary of Results**:\n",
        "First Setup (p1 = 0.3, p2 = 0.7):\n",
        "Final Accuracy: 86.67%\n",
        "Loss went from 0.7233 to 0.3607.\n",
        "Switched Setup (p1 = 0.7, p2 = 0.3):\n",
        "Final Accuracy: 85.92%\n",
        "Loss went from 0.7855 to 0.4358.\n",
        "**Inference**:\n",
        "Dropout Strategy: A balanced approach to dropout rates seems to work better, as a moderate dropout in the first layer keeps important features while helping prevent overfitting.\n",
        "Impact of High Dropout: Having a high dropout in the early layers can hurt learning by removing too much information, leading to lower performance.\n",
        "Generalization vs. Learning: It’s important to find the right dropout rate to optimize both learning and generalization in neural networks. Adjusting these settings can significantly affect model accuracy and how well it learns.\n",
        "\n",
        "\n"
      ],
      "metadata": {
        "id": "FXvClMVJm1Tp"
      },
      "id": "FXvClMVJm1Tp"
    },
    {
      "cell_type": "markdown",
      "source": [
        "## Exercise 2:\n",
        "Increase the number of epochs to 50 and compare the results."
      ],
      "metadata": {
        "id": "PCKcSkf9sIfK"
      },
      "id": "PCKcSkf9sIfK"
    },
    {
      "cell_type": "markdown",
      "source": [],
      "metadata": {
        "id": "4ZIArWe1sP5a"
      },
      "id": "4ZIArWe1sP5a"
    },
    {
      "cell_type": "code",
      "source": [
        "hparams = {'num_outputs':10, 'num_hiddens_1':256, 'num_hiddens_2':256,\n",
        "           'dropout_1':0.5, 'dropout_2':0.5, 'lr':0.1}\n",
        "model = DropoutMLP(**hparams)\n",
        "\n",
        "#write your training and testing code here\n",
        "import torch.optim as optim\n",
        "from torchvision import datasets, transforms\n",
        "from torch.utils.data import DataLoader\n",
        "\n",
        "# Data transformations\n",
        "transform = transforms.Compose([\n",
        "    transforms.ToTensor(),\n",
        "    transforms.Lambda(lambda x: x.view(-1))  # Flatten the image to 784 features\n",
        "])\n",
        "\n",
        "# Load Fashion MNIST dataset\n",
        "train_dataset = datasets.FashionMNIST(root='./data', train=True, download=True, transform=transform)\n",
        "test_dataset = datasets.FashionMNIST(root='./data', train=False, download=True, transform=transform)\n",
        "\n",
        "# Create DataLoader\n",
        "train_loader = DataLoader(train_dataset, batch_size=32, shuffle=True)\n",
        "test_loader = DataLoader(test_dataset, batch_size=32)\n",
        "\n",
        "# Loss and Optimizer\n",
        "criterion = nn.CrossEntropyLoss()\n",
        "optimizer = optim.SGD(model.parameters(), lr=hparams['lr'])\n",
        "\n",
        "# Training Loop\n",
        "num_epochs = 50\n",
        "for epoch in range(num_epochs):\n",
        "    model.train()  # Set the model to training mode\n",
        "    total_loss = 0.0\n",
        "    for X_batch, y_batch in train_loader:\n",
        "        optimizer.zero_grad()  # Clear gradients\n",
        "        outputs = model(X_batch)  # Forward pass\n",
        "        loss = criterion(outputs, y_batch)  # Compute loss\n",
        "        loss.backward()  # Backpropagation\n",
        "        optimizer.step()  # Update weights\n",
        "        total_loss += loss.item()\n",
        "\n",
        "    print(f'Epoch [{epoch+1}/{num_epochs}], Loss: {total_loss/len(train_loader):.4f}')\n",
        "\n",
        "# Testing Loop\n",
        "model.eval()  # Set the model to evaluation mode\n",
        "correct = 0\n",
        "total = 0\n",
        "\n",
        "with torch.no_grad():  # No gradient calculation\n",
        "    for X_batch, y_batch in test_loader:\n",
        "        outputs = model(X_batch)  # Forward pass\n",
        "        _, predicted = torch.max(outputs, 1)  # Get the predicted class\n",
        "        total += y_batch.size(0)  # Number of samples\n",
        "        correct += (predicted == y_batch).sum().item()  # Count correct predictions\n",
        "\n",
        "print(f'Accuracy: {100 * correct / total:.2f}%')\n"
      ],
      "metadata": {
        "colab": {
          "base_uri": "https://localhost:8080/"
        },
        "id": "_TB6CEFA_xfj",
        "outputId": "e3f1fc65-fa3a-42e2-dff1-9802c4cf440f"
      },
      "id": "_TB6CEFA_xfj",
      "execution_count": null,
      "outputs": [
        {
          "output_type": "stream",
          "name": "stdout",
          "text": [
            "Epoch [1/50], Loss: 0.7075\n",
            "Epoch [2/50], Loss: 0.5118\n",
            "Epoch [3/50], Loss: 0.4716\n",
            "Epoch [4/50], Loss: 0.4452\n",
            "Epoch [5/50], Loss: 0.4263\n",
            "Epoch [6/50], Loss: 0.4118\n",
            "Epoch [7/50], Loss: 0.4035\n",
            "Epoch [8/50], Loss: 0.3911\n",
            "Epoch [9/50], Loss: 0.3819\n",
            "Epoch [10/50], Loss: 0.3768\n",
            "Epoch [11/50], Loss: 0.3700\n",
            "Epoch [12/50], Loss: 0.3619\n",
            "Epoch [13/50], Loss: 0.3604\n",
            "Epoch [14/50], Loss: 0.3531\n",
            "Epoch [15/50], Loss: 0.3529\n",
            "Epoch [16/50], Loss: 0.3470\n",
            "Epoch [17/50], Loss: 0.3451\n",
            "Epoch [18/50], Loss: 0.3395\n",
            "Epoch [19/50], Loss: 0.3401\n",
            "Epoch [20/50], Loss: 0.3350\n",
            "Epoch [21/50], Loss: 0.3293\n",
            "Epoch [22/50], Loss: 0.3306\n",
            "Epoch [23/50], Loss: 0.3266\n",
            "Epoch [24/50], Loss: 0.3249\n",
            "Epoch [25/50], Loss: 0.3207\n",
            "Epoch [26/50], Loss: 0.3156\n",
            "Epoch [27/50], Loss: 0.3167\n",
            "Epoch [28/50], Loss: 0.3153\n",
            "Epoch [29/50], Loss: 0.3113\n",
            "Epoch [30/50], Loss: 0.3114\n",
            "Epoch [31/50], Loss: 0.3084\n",
            "Epoch [32/50], Loss: 0.3070\n",
            "Epoch [33/50], Loss: 0.3052\n",
            "Epoch [34/50], Loss: 0.3035\n",
            "Epoch [35/50], Loss: 0.3024\n",
            "Epoch [36/50], Loss: 0.3063\n",
            "Epoch [37/50], Loss: 0.2987\n",
            "Epoch [38/50], Loss: 0.2968\n",
            "Epoch [39/50], Loss: 0.2959\n",
            "Epoch [40/50], Loss: 0.2938\n",
            "Epoch [41/50], Loss: 0.2961\n",
            "Epoch [42/50], Loss: 0.2914\n",
            "Epoch [43/50], Loss: 0.2870\n",
            "Epoch [44/50], Loss: 0.2901\n",
            "Epoch [45/50], Loss: 0.2863\n",
            "Epoch [46/50], Loss: 0.2851\n",
            "Epoch [47/50], Loss: 0.2836\n",
            "Epoch [48/50], Loss: 0.2823\n",
            "Epoch [49/50], Loss: 0.2816\n",
            "Epoch [50/50], Loss: 0.2861\n",
            "Accuracy: 88.64%\n"
          ]
        }
      ]
    },
    {
      "cell_type": "markdown",
      "source": [
        "After increasing the number of epochs to 50 with dropout rates set to\n",
        "𝑝\n",
        "1\n",
        "=\n",
        "0.5\n",
        " and\n",
        "𝑝\n",
        "2\n",
        "=\n",
        "0.5\n",
        ", the model showed steady improvement in performance. The loss decreased consistently from 0.7075 in the first epoch to a final value of 0.2861 by the end of the training. This downward trend indicates that the model was able to learn effectively over the epochs, gradually minimizing errors during training.\n",
        "\n",
        "The final accuracy achieved was 88.64%, which suggests that the dropout rates were beneficial in preventing overfitting while maintaining a good level of learning. The consistent loss reduction across the epochs indicates that the model was able to generalize well to the training data. Overall, this experiment highlights the effectiveness of using dropout with balanced rates in enhancing model performance, leading to improved accuracy without sacrificing too much learning capability.\n",
        "\n",
        "\n",
        "\n"
      ],
      "metadata": {
        "id": "YbBr8hD-oCfL"
      },
      "id": "YbBr8hD-oCfL"
    },
    {
      "cell_type": "markdown",
      "source": [
        "## Exercise 3:\n",
        "Why is dropout not typically used at test time?\n",
        "\n",
        "\n",
        "Implemented dropout in the testing phase for understanding how it effects the model performance.\n"
      ],
      "metadata": {
        "id": "tTWYq6IUH8h4"
      },
      "id": "tTWYq6IUH8h4"
    },
    {
      "cell_type": "code",
      "source": [
        "import torch\n",
        "import torch.nn as nn\n",
        "import torch.optim as optim\n",
        "from torchvision import datasets, transforms\n",
        "from torch.utils.data import DataLoader\n",
        "\n",
        "# Define the DropoutMLPScratch model\n",
        "class DropoutMLPScratch_Test(nn.Module):\n",
        "    def __init__(self, num_outputs, num_hiddens_1, num_hiddens_2,\n",
        "                 dropout_1, dropout_2):\n",
        "        super(DropoutMLPScratch_Test, self).__init__()\n",
        "        self.lin1 = nn.LazyLinear(num_hiddens_1)\n",
        "        self.lin2 = nn.LazyLinear(num_hiddens_2)\n",
        "        self.lin3 = nn.LazyLinear(num_outputs)\n",
        "        self.relu = nn.ReLU()\n",
        "        self.dropout_1 = nn.Dropout(dropout_1)\n",
        "        self.dropout_2 = nn.Dropout(dropout_2)\n",
        "\n",
        "    def forward(self, X, apply_dropout=False):\n",
        "        H1 = self.relu(self.lin1(X.reshape((X.shape[0], -1))))\n",
        "\n",
        "        if apply_dropout:\n",
        "            H1 = self.dropout_1(H1)\n",
        "        else:\n",
        "            # Scale weights during testing\n",
        "            H1 *= (1 - self.dropout_1.p)\n",
        "\n",
        "        H2 = self.relu(self.lin2(H1))\n",
        "\n",
        "        if apply_dropout:\n",
        "            H2 = self.dropout_2(H2)\n",
        "        else:\n",
        "            # Scale weights during testing\n",
        "            H2 *= (1 - self.dropout_2.p)\n",
        "\n",
        "        return self.lin3(H2)\n",
        "\n",
        "# Function to train the model\n",
        "def train_model(model1, train_loader, criterion, optimizer, epochs):\n",
        "    model1.train()  # Set to training mode\n",
        "    for epoch in range(epochs):\n",
        "        for data, targets in train_loader:\n",
        "            optimizer.zero_grad()  # Clear previous gradients\n",
        "            outputs = model1(data, apply_dropout=True)  # Apply dropout during training\n",
        "            loss = criterion(outputs, targets)\n",
        "            loss.backward()  # Backpropagation\n",
        "            optimizer.step()  # Update weights\n",
        "        print(f'Epoch {epoch + 1}/{epochs}, Loss: {loss.item()}')\n",
        "\n",
        "# Function to evaluate the model\n",
        "def evaluate_model(model1, test_loader, num_samples):\n",
        "    model1.eval()  # Set to evaluation mode\n",
        "    outputs = []\n",
        "    with torch.no_grad():\n",
        "        for data, _ in test_loader:\n",
        "            batch_outputs = []\n",
        "            for _ in range(num_samples):  # Multiple forward passes\n",
        "                output = model1(data, apply_dropout=True)  # Apply dropout during testing\n",
        "                batch_outputs.append(output)\n",
        "            avg_output = torch.mean(torch.stack(batch_outputs), dim=0)\n",
        "            outputs.append(avg_output)\n",
        "    return torch.cat(outputs)\n",
        "\n",
        "# Define transformations for the dataset (without normalization)\n",
        "transform = transforms.Compose([\n",
        "    transforms.ToTensor(),\n",
        "    transforms.Lambda(lambda x: x.view(-1))  # Flatten the image to 784 features\n",
        "])\n",
        "\n",
        "# Load the Fashion MNIST dataset\n",
        "train_dataset = datasets.FashionMNIST(root='./data', train=True, download=True, transform=transform)\n",
        "test_dataset = datasets.FashionMNIST(root='./data', train=False, download=True, transform=transform)\n",
        "\n",
        "# Create DataLoader\n",
        "train_loader = DataLoader(train_dataset, batch_size=32, shuffle=True)\n",
        "test_loader = DataLoader(test_dataset, batch_size=32, shuffle=False)\n",
        "\n",
        "# Model parameters\n",
        "num_hiddens_1 = 256\n",
        "num_hiddens_2 = 256\n",
        "dropout_1 = 0.5\n",
        "dropout_2 = 0.5\n",
        "epochs = 10\n",
        "learning_rate = 0.1\n",
        "\n",
        "# Initialize model, criterion, and optimizer\n",
        "model1 = DropoutMLPScratch_Test(num_outputs=10, num_hiddens_1=num_hiddens_1,\n",
        "                           num_hiddens_2=num_hiddens_2, dropout_1=dropout_1, dropout_2=dropout_2)\n",
        "criterion = nn.CrossEntropyLoss()\n",
        "optimizer = optim.SGD(model1.parameters(), lr=learning_rate)\n",
        "\n",
        "# Train the model\n",
        "train_model(model1, train_loader, criterion, optimizer, epochs)\n",
        "\n",
        "# Evaluate the model\n",
        "num_test_samples = 100  # Number of forward passes for testing\n",
        "test_outputs = evaluate_model(model1, test_loader, num_test_samples)\n",
        "\n",
        "# Compute accuracy\n",
        "_, predicted = torch.max(test_outputs, 1)\n",
        "targets = torch.cat([y for _, y in test_loader])  # Get true labels from test_loader\n",
        "accuracy = (predicted == targets).float().mean().item()\n",
        "print(f'Accuracy: {accuracy:.4f}')\n"
      ],
      "metadata": {
        "colab": {
          "base_uri": "https://localhost:8080/"
        },
        "id": "zkp2XX7DpUMR",
        "outputId": "4d3c5f6b-4219-49e3-9086-86eb906e5a88"
      },
      "id": "zkp2XX7DpUMR",
      "execution_count": 21,
      "outputs": [
        {
          "output_type": "stream",
          "name": "stdout",
          "text": [
            "Epoch 1/10, Loss: 0.890283465385437\n",
            "Epoch 2/10, Loss: 0.287642240524292\n",
            "Epoch 3/10, Loss: 0.3459492325782776\n",
            "Epoch 4/10, Loss: 0.5624974966049194\n",
            "Epoch 5/10, Loss: 0.33294424414634705\n",
            "Epoch 6/10, Loss: 0.46092286705970764\n",
            "Epoch 7/10, Loss: 0.36244407296180725\n",
            "Epoch 8/10, Loss: 0.32571399211883545\n",
            "Epoch 9/10, Loss: 0.5869616270065308\n",
            "Epoch 10/10, Loss: 0.5111770033836365\n",
            "Accuracy: 0.8656\n"
          ]
        }
      ]
    },
    {
      "cell_type": "markdown",
      "source": [
        "Applying dropout during the testing phase led to fluctuating loss values and unstable accuracy metrics, which indicate that the model's predictions are inconsistent. When dropout is active, different neurons are randomly deactivated for each forward pass, resulting in variability that undermines the reliability of performance evaluation.\n",
        "\n",
        "Typically, during testing, we want the model to leverage all its learned parameters to provide a clear and stable assessment of its capabilities. Therefore, it’s generally not recommended to use dropout in the testing phase, as it can diminish the model's predictive power and lead to misleading results.\n",
        "\n",
        "\n",
        "\n"
      ],
      "metadata": {
        "id": "SPmfbArprQ3C"
      },
      "id": "SPmfbArprQ3C"
    }
  ],
  "metadata": {
    "kernelspec": {
      "display_name": "Python 3",
      "name": "python3"
    },
    "language_info": {
      "name": "python"
    },
    "required_libs": [],
    "colab": {
      "provenance": []
    }
  },
  "nbformat": 4,
  "nbformat_minor": 5
}