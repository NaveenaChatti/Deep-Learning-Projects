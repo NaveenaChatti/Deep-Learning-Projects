{
 "cells": [
  {
   "cell_type": "code",
   "execution_count": null,
   "metadata": {},
   "outputs": [],
   "source": [
    "import random\n",
    "import numpy as np\n",
    "import torch\n",
    "import torch.nn as nn\n",
    "import torch.optim as optim\n",
    "import torch.nn.functional as F\n",
    "from torchvision import datasets, transforms\n",
    "from torch.utils.data import DataLoader"
   ]
  },
  {
   "cell_type": "code",
   "execution_count": null,
   "metadata": {},
   "outputs": [],
   "source": [
    "# Set random seeds for reproducibility\n",
    "random.seed(42)\n",
    "np.random.seed(42)\n",
    "torch.manual_seed(42)\n"
   ]
  },
  {
   "cell_type": "code",
   "execution_count": null,
   "metadata": {},
   "outputs": [],
   "source": [
    "# Define the Simple CNN model\n",
    "class SimpleCNN(nn.Module):\n",
    "    def __init__(self):\n",
    "        super(SimpleCNN, self).__init__()\n",
    "        self.conv1 = nn.Conv2d(3, 32, 3, 1)  # 3 input channels for RGB images\n",
    "        self.conv2 = nn.Conv2d(32, 64, 3, 1)\n",
    "        \n",
    "        # Initialize fc1 with the dynamically calculated size\n",
    "        self._initialize_fc1()\n",
    "\n",
    "    def _initialize_fc1(self):\n",
    "        # Use a dummy tensor to calculate the output size after convolutions\n",
    "        with torch.no_grad():\n",
    "            dummy_input = torch.zeros(1, 3, 32, 32)  # CIFAR-10 image size\n",
    "            x = F.relu(self.conv1(dummy_input))\n",
    "            x = F.max_pool2d(x, 2)\n",
    "            x = F.relu(self.conv2(x))\n",
    "            x = F.max_pool2d(x, 2)\n",
    "            self.flattened_size = x.view(1, -1).size(1)\n",
    "        \n",
    "        self.fc1 = nn.Linear(self.flattened_size, 128)\n",
    "        self.output = nn.Linear(128, 10)  # 10 classes for CIFAR-10\n",
    "\n",
    "    def forward(self, x):\n",
    "        x = F.relu(self.conv1(x))\n",
    "        x = F.max_pool2d(x, 2)\n",
    "        x = F.relu(self.conv2(x))\n",
    "        x = F.max_pool2d(x, 2)\n",
    "        x = x.view(x.size(0), -1)  # Dynamically flatten\n",
    "        x = F.relu(self.fc1(x))\n",
    "        x = self.output(x)\n",
    "        return x"
   ]
  },
  {
   "cell_type": "code",
   "execution_count": null,
   "metadata": {},
   "outputs": [],
   "source": [
    "# Define ArcFace Loss\n",
    "class ArcFaceLoss(nn.Module):\n",
    "    def __init__(self, margin=0.5):\n",
    "        super(ArcFaceLoss, self).__init__()\n",
    "        self.margin = margin\n",
    "\n",
    "    def forward(self, embeddings, labels):\n",
    "        # Calculate the cosine similarity\n",
    "        cosine = F.normalize(embeddings)\n",
    "        theta = torch.acos(cosine.clamp(-1, 1))  # Clamp to avoid NaN\n",
    "        target = torch.cos(theta + self.margin)\n",
    "\n",
    "        # Convert labels to one-hot encoding\n",
    "        one_hot = torch.zeros(cosine.size()).to(cosine.device)\n",
    "        one_hot.scatter_(1, labels.view(-1, 1), 1)\n",
    "\n",
    "        output = one_hot * target + (1.0 - one_hot) * cosine\n",
    "        return F.cross_entropy(output, labels)"
   ]
  },
  {
   "cell_type": "code",
   "execution_count": null,
   "metadata": {},
   "outputs": [],
   "source": [
    "# Load CIFAR-10 data\n",
    "transform = transforms.Compose([\n",
    "    transforms.ToTensor(),\n",
    "    transforms.Normalize((0.5, 0.5, 0.5), (0.5, 0.5, 0.5))\n",
    "])\n",
    "\n",
    "train_dataset = datasets.CIFAR10(root='./data', train=True, download=True, transform=transform)\n",
    "test_dataset = datasets.CIFAR10(root='./data', train=False, download=True, transform=transform)\n",
    "\n",
    "train_loader = DataLoader(train_dataset, batch_size=64, shuffle=True)\n",
    "test_loader = DataLoader(test_dataset, batch_size=64, shuffle=False)"
   ]
  },
  {
   "cell_type": "code",
   "execution_count": null,
   "metadata": {},
   "outputs": [],
   "source": [
    "# Instantiate model, loss function, and optimizer\n",
    "model = SimpleCNN()\n",
    "criterion = ArcFaceLoss()\n",
    "optimizer = optim.Adam(model.parameters(), lr=0.001)"
   ]
  },
  {
   "cell_type": "code",
   "execution_count": null,
   "metadata": {},
   "outputs": [],
   "source": [
    "# Train the model\n",
    "def train(model, train_loader, criterion, optimizer, epochs=5):\n",
    "    model.train()\n",
    "    for epoch in range(epochs):\n",
    "        total_loss = 0\n",
    "        for images, labels in train_loader:\n",
    "            optimizer.zero_grad()\n",
    "            outputs = model(images)  # Get embeddings\n",
    "            loss = criterion(outputs, labels)\n",
    "            loss.backward()\n",
    "            optimizer.step()\n",
    "            total_loss += loss.item()\n",
    "        \n",
    "        # Calculate average training loss\n",
    "        avg_train_loss = total_loss / len(train_loader)\n",
    "        print(f'Epoch [{epoch + 1}/{epochs}], Train Loss: {avg_train_loss:.4f}')"
   ]
  },
  {
   "cell_type": "code",
   "execution_count": null,
   "metadata": {},
   "outputs": [],
   "source": [
    "# Test the model\n",
    "def test(model, test_loader):\n",
    "    model.eval()\n",
    "    correct = 0\n",
    "    total = 0\n",
    "    total_loss = 0\n",
    "    with torch.no_grad():\n",
    "        for images, labels in test_loader:\n",
    "            outputs = model(images)\n",
    "            loss = criterion(outputs, labels)\n",
    "            total_loss += loss.item()\n",
    "\n",
    "            _, predicted = torch.max(outputs.data, 1)\n",
    "            total += labels.size(0)\n",
    "            correct += (predicted == labels).sum().item()\n",
    "    \n",
    "    avg_test_loss = total_loss / len(test_loader)\n",
    "    accuracy = 100 * correct / total\n",
    "    print(f'Test Loss: {avg_test_loss:.4f}, Test Accuracy: {accuracy:.2f}%')"
   ]
  },
  {
   "cell_type": "code",
   "execution_count": null,
   "metadata": {},
   "outputs": [
    {
     "name": "stdout",
     "output_type": "stream",
     "text": [
      "Files already downloaded and verified\n",
      "Files already downloaded and verified\n",
      "Training on CIFAR-10 with ArcFace Loss:\n",
      "Epoch [1/5], Train Loss: 2.2591\n",
      "Epoch [2/5], Train Loss: 2.0707\n",
      "Epoch [3/5], Train Loss: 2.0015\n",
      "Epoch [4/5], Train Loss: 1.9513\n",
      "Epoch [5/5], Train Loss: 1.9205\n",
      "Testing on CIFAR-10 test set:\n",
      "Test Loss: 2.0099, Test Accuracy: 67.64%\n"
     ]
    }
   ],
   "source": [
    "# Run training and testing\n",
    "print(\"Training on CIFAR-10 with ArcFace Loss:\")\n",
    "train(model, train_loader, criterion, optimizer, epochs=5)\n",
    "print(\"Testing on CIFAR-10 test set:\")\n",
    "test(model, test_loader)\n"
   ]
  },
  {
   "cell_type": "code",
   "execution_count": null,
   "metadata": {},
   "outputs": [],
   "source": []
  }
 ],
 "metadata": {
  "kernelspec": {
   "display_name": "Python 3",
   "language": "python",
   "name": "python3"
  },
  "language_info": {
   "codemirror_mode": {
    "name": "ipython",
    "version": 3
   },
   "file_extension": ".py",
   "mimetype": "text/x-python",
   "name": "python",
   "nbconvert_exporter": "python",
   "pygments_lexer": "ipython3",
   "version": "3.12.7"
  }
 },
 "nbformat": 4,
 "nbformat_minor": 2
}
